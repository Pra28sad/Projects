{
 "cells": [
  {
   "cell_type": "markdown",
   "id": "a5491ae3",
   "metadata": {},
   "source": [
    "In this notebook we will do End to End model development on titanic dataset.\n",
    "\n",
    "In this i have tried so many things by practising and exploring various concepts in my notebooks.\n",
    "\n",
    "I focussed on improving my skills in key areas such as:"
   ]
  },
  {
   "cell_type": "raw",
   "id": "b56f2803",
   "metadata": {},
   "source": [
    "--> Column Transfprmers and Pipelines\n",
    "--> Optuna for hyperparameter tuning\n",
    "--> Permutation importance & SHAP for model interpretability\n",
    "--> Data Preprocessing, feature engineering and exploration\n"
   ]
  },
  {
   "cell_type": "markdown",
   "id": "31faff6b",
   "metadata": {},
   "source": [
    "This notebook is a complete walkthrough covering:\n",
    "\n",
    "##### -> Data Collection & Loading\n",
    "##### -> Exploratory Data Analysis (EDA) with visual insights\n",
    "##### -> Data Cleaning & Feature Engineering\n",
    "##### -> Preprocessing using ColumnTransformer\n",
    "##### -> Feature Selection using Chi-square test\n",
    "##### -> Training Multiple Models and evaluating their performance\n",
    "##### -> Hyperparameter Tuning with Optuna (faster and more efficient than grid/random search)\n",
    "##### -> Model Testing & Evaluation, including ROC curves and permutation importance\n",
    "\n",
    "\n",
    "Through this project, I aimed to gain hands-on experience with different preprocessing techniques, model training strategies, and interpretability methods to strengthen my practical machine learning skills."
   ]
  },
  {
   "cell_type": "code",
   "execution_count": 2,
   "id": "80211b25",
   "metadata": {},
   "outputs": [],
   "source": [
    "import os, platform, sys\n",
    "import warnings\n",
    "warnings.filterwarnings('ignore')"
   ]
  },
  {
   "cell_type": "code",
   "execution_count": 3,
   "id": "4dd25188",
   "metadata": {},
   "outputs": [
    {
     "name": "stdout",
     "output_type": "stream",
     "text": [
      "Python Version : 3.11.5\n",
      "Platform is : Windows-10-10.0.26100-SP0\n"
     ]
    }
   ],
   "source": [
    "print(\"Python Version :\", sys.version.split()[0])\n",
    "print(\"Platform is :\", platform.platform())\n"
   ]
  },
  {
   "cell_type": "markdown",
   "id": "f9b12c9c",
   "metadata": {},
   "source": [
    "### Importing all libraries"
   ]
  },
  {
   "cell_type": "code",
   "execution_count": 6,
   "id": "878dc227",
   "metadata": {},
   "outputs": [],
   "source": [
    "\n",
    "## Data handelling and visuallization libraries\n",
    "import numpy as np\n",
    "import pandas as pd\n",
    "import matplotlib.pyplot as plt\n",
    "import seaborn as sns\n",
    "\n",
    "## Preprocessing libraries\n",
    "from sklearn.impute import SimpleImputer\n",
    "from sklearn.compose import ColumnTransformer\n",
    "from sklearn.preprocessing import StandardScaler, OneHotEncoder, OrdinalEncoder\n",
    "\n",
    "## importing necessary models to do this task\n",
    "from sklearn.linear_model import LogisticRegression\n",
    "from sklearn.svm import SVC\n",
    "from sklearn.ensemble import RandomForestClassifier, AdaBoostClassifier, GradientBoostingClassifier\n",
    "from sklearn.neighbors import KNeighborsClassifier\n",
    "from sklearn.tree import DecisionTreeClassifier\n",
    "from sklearn.naive_bayes import GaussianNB\n",
    "from xgboost import XGBClassifier\n",
    "from lightgbm import LGBMClassifier\n",
    "\n",
    "\n",
    "## pipeline and feature selection\n",
    "from sklearn.pipeline import Pipeline\n",
    "from sklearn.feature_selection import chi2\n",
    "\n",
    "## model evaluation and metrics\n",
    "from sklearn.metrics import accuracy_score, classification_report, roc_curve, ConfusionMatrixDisplay, confusion_matrix, roc_auc_score\n",
    "\n",
    "\n",
    "## Hyperparameter Optimization\n",
    "import optuna\n",
    "from sklearn.model_selection import StratifiedKFold, cross_val_score, train_test_split\n",
    "\n",
    "\n",
    "## Advanced Ensemble & Feature Importance\n",
    "from sklearn.ensemble import VotingClassifier, StackingClassifier\n",
    "from sklearn.inspection import permutation_importance\n"
   ]
  },
  {
   "cell_type": "code",
   "execution_count": 5,
   "id": "b9994d88",
   "metadata": {},
   "outputs": [
    {
     "name": "stdout",
     "output_type": "stream",
     "text": [
      "Collecting optuna\n",
      "  Obtaining dependency information for optuna from https://files.pythonhosted.org/packages/7f/12/cba81286cbaf0f0c3f0473846cfd992cb240bdcea816bf2ef7de8ed0f744/optuna-4.5.0-py3-none-any.whl.metadata\n",
      "  Downloading optuna-4.5.0-py3-none-any.whl.metadata (17 kB)\n",
      "Requirement already satisfied: alembic>=1.5.0 in c:\\users\\prasad ayithireddy\\anaconda\\lib\\site-packages (from optuna) (1.16.1)\n",
      "Collecting colorlog (from optuna)\n",
      "  Obtaining dependency information for colorlog from https://files.pythonhosted.org/packages/e3/51/9b208e85196941db2f0654ad0357ca6388ab3ed67efdbfc799f35d1f83aa/colorlog-6.9.0-py3-none-any.whl.metadata\n",
      "  Downloading colorlog-6.9.0-py3-none-any.whl.metadata (10 kB)\n",
      "Requirement already satisfied: numpy in c:\\users\\prasad ayithireddy\\anaconda\\lib\\site-packages (from optuna) (1.26.4)\n",
      "Requirement already satisfied: packaging>=20.0 in c:\\users\\prasad ayithireddy\\anaconda\\lib\\site-packages (from optuna) (23.1)\n",
      "Requirement already satisfied: sqlalchemy>=1.4.2 in c:\\users\\prasad ayithireddy\\anaconda\\lib\\site-packages (from optuna) (2.0.38)\n",
      "Requirement already satisfied: tqdm in c:\\users\\prasad ayithireddy\\anaconda\\lib\\site-packages (from optuna) (4.65.0)\n",
      "Requirement already satisfied: PyYAML in c:\\users\\prasad ayithireddy\\anaconda\\lib\\site-packages (from optuna) (6.0)\n",
      "Requirement already satisfied: Mako in c:\\users\\prasad ayithireddy\\anaconda\\lib\\site-packages (from alembic>=1.5.0->optuna) (1.3.10)\n",
      "Requirement already satisfied: typing-extensions>=4.12 in c:\\users\\prasad ayithireddy\\anaconda\\lib\\site-packages (from alembic>=1.5.0->optuna) (4.13.2)\n",
      "Requirement already satisfied: greenlet!=0.4.17 in c:\\users\\prasad ayithireddy\\anaconda\\lib\\site-packages (from sqlalchemy>=1.4.2->optuna) (2.0.1)\n",
      "Requirement already satisfied: colorama in c:\\users\\prasad ayithireddy\\anaconda\\lib\\site-packages (from colorlog->optuna) (0.4.6)\n",
      "Requirement already satisfied: MarkupSafe>=0.9.2 in c:\\users\\prasad ayithireddy\\anaconda\\lib\\site-packages (from Mako->alembic>=1.5.0->optuna) (2.1.1)\n",
      "Downloading optuna-4.5.0-py3-none-any.whl (400 kB)\n",
      "   ---------------------------------------- 0.0/400.9 kB ? eta -:--:--\n",
      "   ---------------------------------------- 0.0/400.9 kB ? eta -:--:--\n",
      "   - -------------------------------------- 10.2/400.9 kB ? eta -:--:--\n",
      "   --- ----------------------------------- 41.0/400.9 kB 653.6 kB/s eta 0:00:01\n",
      "   ------------ --------------------------- 122.9/400.9 kB 1.0 MB/s eta 0:00:01\n",
      "   ---------------------- ----------------- 225.3/400.9 kB 1.5 MB/s eta 0:00:01\n",
      "   ---------------------------- ----------- 286.7/400.9 kB 1.6 MB/s eta 0:00:01\n",
      "   ---------------------------------------  399.4/400.9 kB 1.7 MB/s eta 0:00:01\n",
      "   ---------------------------------------- 400.9/400.9 kB 1.6 MB/s eta 0:00:00\n",
      "Downloading colorlog-6.9.0-py3-none-any.whl (11 kB)\n",
      "Installing collected packages: colorlog, optuna\n",
      "Successfully installed colorlog-6.9.0 optuna-4.5.0\n"
     ]
    }
   ],
   "source": [
    "!pip install optuna"
   ]
  },
  {
   "cell_type": "markdown",
   "id": "056e978f",
   "metadata": {},
   "source": [
    "### Data Collection"
   ]
  },
  {
   "cell_type": "code",
   "execution_count": 7,
   "id": "c3a60ba7",
   "metadata": {},
   "outputs": [],
   "source": [
    "train = pd.read_csv(\"train.csv\")\n",
    "test = pd.read_csv(\"test.csv\")\n",
    "gender_sub= pd.read_csv(\"gender_submission.csv\")"
   ]
  },
  {
   "cell_type": "code",
   "execution_count": 8,
   "id": "62f02453",
   "metadata": {},
   "outputs": [
    {
     "data": {
      "text/plain": [
       "(891, 12)"
      ]
     },
     "execution_count": 8,
     "metadata": {},
     "output_type": "execute_result"
    }
   ],
   "source": [
    "train.shape"
   ]
  },
  {
   "cell_type": "code",
   "execution_count": 9,
   "id": "d6f449c7",
   "metadata": {},
   "outputs": [
    {
     "data": {
      "text/plain": [
       "(418, 11)"
      ]
     },
     "execution_count": 9,
     "metadata": {},
     "output_type": "execute_result"
    }
   ],
   "source": [
    "test.shape"
   ]
  },
  {
   "cell_type": "code",
   "execution_count": 10,
   "id": "b6b91b42",
   "metadata": {},
   "outputs": [
    {
     "data": {
      "text/plain": [
       "(418, 2)"
      ]
     },
     "execution_count": 10,
     "metadata": {},
     "output_type": "execute_result"
    }
   ],
   "source": [
    "gender_sub.shape"
   ]
  },
  {
   "cell_type": "code",
   "execution_count": 11,
   "id": "344c92c3",
   "metadata": {},
   "outputs": [],
   "source": [
    "n_train = len(train)\n",
    "n_test = len(test)\n"
   ]
  },
  {
   "cell_type": "code",
   "execution_count": 12,
   "id": "0cb74e73",
   "metadata": {},
   "outputs": [],
   "source": [
    "test_passenger = test[\"PassengerId\"]"
   ]
  },
  {
   "cell_type": "code",
   "execution_count": 14,
   "id": "d08dbadc",
   "metadata": {},
   "outputs": [
    {
     "data": {
      "text/plain": [
       "0       892\n",
       "1       893\n",
       "2       894\n",
       "3       895\n",
       "4       896\n",
       "       ... \n",
       "413    1305\n",
       "414    1306\n",
       "415    1307\n",
       "416    1308\n",
       "417    1309\n",
       "Name: PassengerId, Length: 418, dtype: int64"
      ]
     },
     "execution_count": 14,
     "metadata": {},
     "output_type": "execute_result"
    }
   ],
   "source": [
    "test_passenger  ## we have to use it in test columns> PassengerId"
   ]
  },
  {
   "cell_type": "markdown",
   "id": "eca97244",
   "metadata": {},
   "source": [
    "### Exploratory Data Analysis "
   ]
  },
  {
   "cell_type": "code",
   "execution_count": 15,
   "id": "a13469b6",
   "metadata": {},
   "outputs": [
    {
     "name": "stdout",
     "output_type": "stream",
     "text": [
      "<class 'pandas.core.frame.DataFrame'>\n",
      "RangeIndex: 891 entries, 0 to 890\n",
      "Data columns (total 12 columns):\n",
      " #   Column       Non-Null Count  Dtype  \n",
      "---  ------       --------------  -----  \n",
      " 0   PassengerId  891 non-null    int64  \n",
      " 1   Survived     891 non-null    int64  \n",
      " 2   Pclass       891 non-null    int64  \n",
      " 3   Name         891 non-null    object \n",
      " 4   Sex          891 non-null    object \n",
      " 5   Age          714 non-null    float64\n",
      " 6   SibSp        891 non-null    int64  \n",
      " 7   Parch        891 non-null    int64  \n",
      " 8   Ticket       891 non-null    object \n",
      " 9   Fare         891 non-null    float64\n",
      " 10  Cabin        204 non-null    object \n",
      " 11  Embarked     889 non-null    object \n",
      "dtypes: float64(2), int64(5), object(5)\n",
      "memory usage: 83.7+ KB\n"
     ]
    },
    {
     "data": {
      "text/plain": [
       "None"
      ]
     },
     "metadata": {},
     "output_type": "display_data"
    }
   ],
   "source": [
    "display(train.info())"
   ]
  },
  {
   "cell_type": "code",
   "execution_count": 16,
   "id": "4524d834",
   "metadata": {},
   "outputs": [
    {
     "name": "stdout",
     "output_type": "stream",
     "text": [
      "<class 'pandas.core.frame.DataFrame'>\n",
      "RangeIndex: 418 entries, 0 to 417\n",
      "Data columns (total 11 columns):\n",
      " #   Column       Non-Null Count  Dtype  \n",
      "---  ------       --------------  -----  \n",
      " 0   PassengerId  418 non-null    int64  \n",
      " 1   Pclass       418 non-null    int64  \n",
      " 2   Name         418 non-null    object \n",
      " 3   Sex          418 non-null    object \n",
      " 4   Age          332 non-null    float64\n",
      " 5   SibSp        418 non-null    int64  \n",
      " 6   Parch        418 non-null    int64  \n",
      " 7   Ticket       418 non-null    object \n",
      " 8   Fare         417 non-null    float64\n",
      " 9   Cabin        91 non-null     object \n",
      " 10  Embarked     418 non-null    object \n",
      "dtypes: float64(2), int64(4), object(5)\n",
      "memory usage: 36.1+ KB\n"
     ]
    },
    {
     "data": {
      "text/plain": [
       "None"
      ]
     },
     "metadata": {},
     "output_type": "display_data"
    }
   ],
   "source": [
    "display(test.info())"
   ]
  },
  {
   "cell_type": "code",
   "execution_count": 20,
   "id": "a9ceeb6a",
   "metadata": {},
   "outputs": [
    {
     "data": {
      "text/plain": [
       "PassengerId      0\n",
       "Survived         0\n",
       "Pclass           0\n",
       "Name             0\n",
       "Sex              0\n",
       "Age            177\n",
       "SibSp            0\n",
       "Parch            0\n",
       "Ticket           0\n",
       "Fare             0\n",
       "Cabin          687\n",
       "Embarked         2\n",
       "dtype: int64"
      ]
     },
     "execution_count": 20,
     "metadata": {},
     "output_type": "execute_result"
    }
   ],
   "source": [
    "train.isnull().sum()  ## sum of missing values of train data"
   ]
  },
  {
   "cell_type": "code",
   "execution_count": 19,
   "id": "fb3006db",
   "metadata": {},
   "outputs": [
    {
     "data": {
      "text/plain": [
       "PassengerId      0\n",
       "Pclass           0\n",
       "Name             0\n",
       "Sex              0\n",
       "Age             86\n",
       "SibSp            0\n",
       "Parch            0\n",
       "Ticket           0\n",
       "Fare             1\n",
       "Cabin          327\n",
       "Embarked         0\n",
       "dtype: int64"
      ]
     },
     "execution_count": 19,
     "metadata": {},
     "output_type": "execute_result"
    }
   ],
   "source": [
    "test.isnull().sum() ## sum of missing values of a test data"
   ]
  },
  {
   "cell_type": "code",
   "execution_count": 21,
   "id": "9e6433c5",
   "metadata": {
    "scrolled": true
   },
   "outputs": [
    {
     "name": "stdout",
     "output_type": "stream",
     "text": [
      "summary statistics of train \n"
     ]
    },
    {
     "data": {
      "text/html": [
       "<div>\n",
       "<style scoped>\n",
       "    .dataframe tbody tr th:only-of-type {\n",
       "        vertical-align: middle;\n",
       "    }\n",
       "\n",
       "    .dataframe tbody tr th {\n",
       "        vertical-align: top;\n",
       "    }\n",
       "\n",
       "    .dataframe thead th {\n",
       "        text-align: right;\n",
       "    }\n",
       "</style>\n",
       "<table border=\"1\" class=\"dataframe\">\n",
       "  <thead>\n",
       "    <tr style=\"text-align: right;\">\n",
       "      <th></th>\n",
       "      <th>PassengerId</th>\n",
       "      <th>Survived</th>\n",
       "      <th>Pclass</th>\n",
       "      <th>Age</th>\n",
       "      <th>SibSp</th>\n",
       "      <th>Parch</th>\n",
       "      <th>Fare</th>\n",
       "    </tr>\n",
       "  </thead>\n",
       "  <tbody>\n",
       "    <tr>\n",
       "      <th>count</th>\n",
       "      <td>891.000000</td>\n",
       "      <td>891.000000</td>\n",
       "      <td>891.000000</td>\n",
       "      <td>714.000000</td>\n",
       "      <td>891.000000</td>\n",
       "      <td>891.000000</td>\n",
       "      <td>891.000000</td>\n",
       "    </tr>\n",
       "    <tr>\n",
       "      <th>mean</th>\n",
       "      <td>446.000000</td>\n",
       "      <td>0.383838</td>\n",
       "      <td>2.308642</td>\n",
       "      <td>29.699118</td>\n",
       "      <td>0.523008</td>\n",
       "      <td>0.381594</td>\n",
       "      <td>32.204208</td>\n",
       "    </tr>\n",
       "    <tr>\n",
       "      <th>std</th>\n",
       "      <td>257.353842</td>\n",
       "      <td>0.486592</td>\n",
       "      <td>0.836071</td>\n",
       "      <td>14.526497</td>\n",
       "      <td>1.102743</td>\n",
       "      <td>0.806057</td>\n",
       "      <td>49.693429</td>\n",
       "    </tr>\n",
       "    <tr>\n",
       "      <th>min</th>\n",
       "      <td>1.000000</td>\n",
       "      <td>0.000000</td>\n",
       "      <td>1.000000</td>\n",
       "      <td>0.420000</td>\n",
       "      <td>0.000000</td>\n",
       "      <td>0.000000</td>\n",
       "      <td>0.000000</td>\n",
       "    </tr>\n",
       "    <tr>\n",
       "      <th>25%</th>\n",
       "      <td>223.500000</td>\n",
       "      <td>0.000000</td>\n",
       "      <td>2.000000</td>\n",
       "      <td>20.125000</td>\n",
       "      <td>0.000000</td>\n",
       "      <td>0.000000</td>\n",
       "      <td>7.910400</td>\n",
       "    </tr>\n",
       "    <tr>\n",
       "      <th>50%</th>\n",
       "      <td>446.000000</td>\n",
       "      <td>0.000000</td>\n",
       "      <td>3.000000</td>\n",
       "      <td>28.000000</td>\n",
       "      <td>0.000000</td>\n",
       "      <td>0.000000</td>\n",
       "      <td>14.454200</td>\n",
       "    </tr>\n",
       "    <tr>\n",
       "      <th>75%</th>\n",
       "      <td>668.500000</td>\n",
       "      <td>1.000000</td>\n",
       "      <td>3.000000</td>\n",
       "      <td>38.000000</td>\n",
       "      <td>1.000000</td>\n",
       "      <td>0.000000</td>\n",
       "      <td>31.000000</td>\n",
       "    </tr>\n",
       "    <tr>\n",
       "      <th>max</th>\n",
       "      <td>891.000000</td>\n",
       "      <td>1.000000</td>\n",
       "      <td>3.000000</td>\n",
       "      <td>80.000000</td>\n",
       "      <td>8.000000</td>\n",
       "      <td>6.000000</td>\n",
       "      <td>512.329200</td>\n",
       "    </tr>\n",
       "  </tbody>\n",
       "</table>\n",
       "</div>"
      ],
      "text/plain": [
       "       PassengerId    Survived  ...       Parch        Fare\n",
       "count   891.000000  891.000000  ...  891.000000  891.000000\n",
       "mean    446.000000    0.383838  ...    0.381594   32.204208\n",
       "std     257.353842    0.486592  ...    0.806057   49.693429\n",
       "min       1.000000    0.000000  ...    0.000000    0.000000\n",
       "25%     223.500000    0.000000  ...    0.000000    7.910400\n",
       "50%     446.000000    0.000000  ...    0.000000   14.454200\n",
       "75%     668.500000    1.000000  ...    0.000000   31.000000\n",
       "max     891.000000    1.000000  ...    6.000000  512.329200\n",
       "\n",
       "[8 rows x 7 columns]"
      ]
     },
     "execution_count": 21,
     "metadata": {},
     "output_type": "execute_result"
    }
   ],
   "source": [
    "print(\"summary statistics of train \")\n",
    "train.describe()"
   ]
  },
  {
   "cell_type": "code",
   "execution_count": 31,
   "id": "cb94d5b1",
   "metadata": {},
   "outputs": [],
   "source": [
    "sx = train[train[\"Survived\"]==1].shape[0]  # survived of X passengers"
   ]
  },
  {
   "cell_type": "code",
   "execution_count": 32,
   "id": "f0098c23",
   "metadata": {},
   "outputs": [],
   "source": [
    "tx = train[\"Survived\"].shape[0]   ## total Passengers"
   ]
  },
  {
   "cell_type": "code",
   "execution_count": 33,
   "id": "aac4b44d",
   "metadata": {},
   "outputs": [
    {
     "name": "stdout",
     "output_type": "stream",
     "text": [
      "Survival Rate:  38.38 %\n"
     ]
    }
   ],
   "source": [
    "print(\"Survival Rate: \", np.round((sx/tx)*100,2),\"%\")\n"
   ]
  },
  {
   "cell_type": "code",
   "execution_count": 34,
   "id": "ef6af7e0",
   "metadata": {},
   "outputs": [
    {
     "data": {
      "image/png": "[encoded data removed]",
      "text/plain": [
       "<Figure size 1400x1000 with 6 Axes>"
      ]
     },
     "metadata": {},
     "output_type": "display_data"
    }
   ],
   "source": [
    "\n",
    "# Ensure the folder exists\n",
    "os.makedirs(\"images\", exist_ok=True)\n",
    "\n",
    "# Plot\n",
    "plt.figure(figsize=(14,10))\n",
    "\n",
    "plt.subplot(3,2,1)\n",
    "sns.countplot(data=train, x='Survived')\n",
    "\n",
    "plt.subplot(3,2,2)\n",
    "sns.countplot(data=train, x='Pclass', hue='Survived')\n",
    "\n",
    "plt.subplot(3,2,3)\n",
    "sns.countplot(data=train, x='Sex', hue='Survived')\n",
    "\n",
    "plt.subplot(3,2,4)\n",
    "sns.countplot(data=train, x='Embarked', hue='Survived')\n",
    "\n",
    "plt.subplot(3,2,5)\n",
    "sns.histplot(data=train, x='Age', kde=True, edgecolor=\"black\", bins=30)\n",
    "\n",
    "plt.subplot(3,2,6)\n",
    "sns.histplot(data=train, x='Fare', kde=True, edgecolor=\"black\", bins=30)\n",
    "\n",
    "plt.tight_layout()\n",
    "\n",
    "# Save the full figure\n",
    "plt.savefig(\"images/titanic_exploration.png\", dpi=320)\n",
    "\n",
    "plt.show()\n"
   ]
  },
  {
   "cell_type": "code",
   "execution_count": 37,
   "id": "b17aeb23",
   "metadata": {},
   "outputs": [
    {
     "data": {
      "text/html": [
       "<div>\n",
       "<style scoped>\n",
       "    .dataframe tbody tr th:only-of-type {\n",
       "        vertical-align: middle;\n",
       "    }\n",
       "\n",
       "    .dataframe tbody tr th {\n",
       "        vertical-align: top;\n",
       "    }\n",
       "\n",
       "    .dataframe thead th {\n",
       "        text-align: right;\n",
       "    }\n",
       "</style>\n",
       "<table border=\"1\" class=\"dataframe\">\n",
       "  <thead>\n",
       "    <tr style=\"text-align: right;\">\n",
       "      <th></th>\n",
       "      <th>PassengerId</th>\n",
       "      <th>Survived</th>\n",
       "      <th>Pclass</th>\n",
       "      <th>Age</th>\n",
       "      <th>SibSp</th>\n",
       "      <th>Parch</th>\n",
       "      <th>Fare</th>\n",
       "    </tr>\n",
       "  </thead>\n",
       "  <tbody>\n",
       "    <tr>\n",
       "      <th>PassengerId</th>\n",
       "      <td>1.000000</td>\n",
       "      <td>-0.005007</td>\n",
       "      <td>-0.035144</td>\n",
       "      <td>0.036847</td>\n",
       "      <td>-0.057527</td>\n",
       "      <td>-0.001652</td>\n",
       "      <td>0.012658</td>\n",
       "    </tr>\n",
       "    <tr>\n",
       "      <th>Survived</th>\n",
       "      <td>-0.005007</td>\n",
       "      <td>1.000000</td>\n",
       "      <td>-0.338481</td>\n",
       "      <td>-0.077221</td>\n",
       "      <td>-0.035322</td>\n",
       "      <td>0.081629</td>\n",
       "      <td>0.257307</td>\n",
       "    </tr>\n",
       "    <tr>\n",
       "      <th>Pclass</th>\n",
       "      <td>-0.035144</td>\n",
       "      <td>-0.338481</td>\n",
       "      <td>1.000000</td>\n",
       "      <td>-0.369226</td>\n",
       "      <td>0.083081</td>\n",
       "      <td>0.018443</td>\n",
       "      <td>-0.549500</td>\n",
       "    </tr>\n",
       "    <tr>\n",
       "      <th>Age</th>\n",
       "      <td>0.036847</td>\n",
       "      <td>-0.077221</td>\n",
       "      <td>-0.369226</td>\n",
       "      <td>1.000000</td>\n",
       "      <td>-0.308247</td>\n",
       "      <td>-0.189119</td>\n",
       "      <td>0.096067</td>\n",
       "    </tr>\n",
       "    <tr>\n",
       "      <th>SibSp</th>\n",
       "      <td>-0.057527</td>\n",
       "      <td>-0.035322</td>\n",
       "      <td>0.083081</td>\n",
       "      <td>-0.308247</td>\n",
       "      <td>1.000000</td>\n",
       "      <td>0.414838</td>\n",
       "      <td>0.159651</td>\n",
       "    </tr>\n",
       "    <tr>\n",
       "      <th>Parch</th>\n",
       "      <td>-0.001652</td>\n",
       "      <td>0.081629</td>\n",
       "      <td>0.018443</td>\n",
       "      <td>-0.189119</td>\n",
       "      <td>0.414838</td>\n",
       "      <td>1.000000</td>\n",
       "      <td>0.216225</td>\n",
       "    </tr>\n",
       "    <tr>\n",
       "      <th>Fare</th>\n",
       "      <td>0.012658</td>\n",
       "      <td>0.257307</td>\n",
       "      <td>-0.549500</td>\n",
       "      <td>0.096067</td>\n",
       "      <td>0.159651</td>\n",
       "      <td>0.216225</td>\n",
       "      <td>1.000000</td>\n",
       "    </tr>\n",
       "  </tbody>\n",
       "</table>\n",
       "</div>"
      ],
      "text/plain": [
       "             PassengerId  Survived  ...     Parch      Fare\n",
       "PassengerId     1.000000 -0.005007  ... -0.001652  0.012658\n",
       "Survived       -0.005007  1.000000  ...  0.081629  0.257307\n",
       "Pclass         -0.035144 -0.338481  ...  0.018443 -0.549500\n",
       "Age             0.036847 -0.077221  ... -0.189119  0.096067\n",
       "SibSp          -0.057527 -0.035322  ...  0.414838  0.159651\n",
       "Parch          -0.001652  0.081629  ...  1.000000  0.216225\n",
       "Fare            0.012658  0.257307  ...  0.216225  1.000000\n",
       "\n",
       "[7 rows x 7 columns]"
      ]
     },
     "execution_count": 37,
     "metadata": {},
     "output_type": "execute_result"
    }
   ],
   "source": [
    "train.corr(numeric_only=True)"
   ]
  },
  {
   "cell_type": "code",
   "execution_count": 35,
   "id": "7ccd92c5",
   "metadata": {},
   "outputs": [
    {
     "data": {
      "image/png": "[encoded data removed]",
      "text/plain": [
       "<Figure size 640x480 with 2 Axes>"
      ]
     },
     "metadata": {},
     "output_type": "display_data"
    }
   ],
   "source": [
    "corr_matrix = train.corr(numeric_only=True)\n",
    "sns.heatmap(corr_matrix,annot=True,linewidths=1,linecolor='black',cmap='coolwarm')\n",
    "plt.show()"
   ]
  },
  {
   "cell_type": "code",
   "execution_count": 38,
   "id": "f3b5029e",
   "metadata": {},
   "outputs": [],
   "source": [
    "y = train[\"Survived\"]\n",
    "train.drop(columns=[\"Survived\"],inplace=True)\n"
   ]
  },
  {
   "cell_type": "code",
   "execution_count": 39,
   "id": "2b4b9ba6",
   "metadata": {},
   "outputs": [
    {
     "data": {
      "text/html": [
       "<div>\n",
       "<style scoped>\n",
       "    .dataframe tbody tr th:only-of-type {\n",
       "        vertical-align: middle;\n",
       "    }\n",
       "\n",
       "    .dataframe tbody tr th {\n",
       "        vertical-align: top;\n",
       "    }\n",
       "\n",
       "    .dataframe thead th {\n",
       "        text-align: right;\n",
       "    }\n",
       "</style>\n",
       "<table border=\"1\" class=\"dataframe\">\n",
       "  <thead>\n",
       "    <tr style=\"text-align: right;\">\n",
       "      <th></th>\n",
       "      <th>PassengerId</th>\n",
       "      <th>Pclass</th>\n",
       "      <th>Name</th>\n",
       "      <th>Sex</th>\n",
       "      <th>Age</th>\n",
       "      <th>SibSp</th>\n",
       "      <th>Parch</th>\n",
       "      <th>Ticket</th>\n",
       "      <th>Fare</th>\n",
       "      <th>Cabin</th>\n",
       "      <th>Embarked</th>\n",
       "    </tr>\n",
       "  </thead>\n",
       "  <tbody>\n",
       "    <tr>\n",
       "      <th>0</th>\n",
       "      <td>1</td>\n",
       "      <td>3</td>\n",
       "      <td>Braund, Mr. Owen Harris</td>\n",
       "      <td>male</td>\n",
       "      <td>22.0</td>\n",
       "      <td>1</td>\n",
       "      <td>0</td>\n",
       "      <td>A/5 21171</td>\n",
       "      <td>7.2500</td>\n",
       "      <td>NaN</td>\n",
       "      <td>S</td>\n",
       "    </tr>\n",
       "    <tr>\n",
       "      <th>1</th>\n",
       "      <td>2</td>\n",
       "      <td>1</td>\n",
       "      <td>Cumings, Mrs. John Bradley (Florence Briggs Th...</td>\n",
       "      <td>female</td>\n",
       "      <td>38.0</td>\n",
       "      <td>1</td>\n",
       "      <td>0</td>\n",
       "      <td>PC 17599</td>\n",
       "      <td>71.2833</td>\n",
       "      <td>C85</td>\n",
       "      <td>C</td>\n",
       "    </tr>\n",
       "    <tr>\n",
       "      <th>2</th>\n",
       "      <td>3</td>\n",
       "      <td>3</td>\n",
       "      <td>Heikkinen, Miss. Laina</td>\n",
       "      <td>female</td>\n",
       "      <td>26.0</td>\n",
       "      <td>0</td>\n",
       "      <td>0</td>\n",
       "      <td>STON/O2. 3101282</td>\n",
       "      <td>7.9250</td>\n",
       "      <td>NaN</td>\n",
       "      <td>S</td>\n",
       "    </tr>\n",
       "    <tr>\n",
       "      <th>3</th>\n",
       "      <td>4</td>\n",
       "      <td>1</td>\n",
       "      <td>Futrelle, Mrs. Jacques Heath (Lily May Peel)</td>\n",
       "      <td>female</td>\n",
       "      <td>35.0</td>\n",
       "      <td>1</td>\n",
       "      <td>0</td>\n",
       "      <td>113803</td>\n",
       "      <td>53.1000</td>\n",
       "      <td>C123</td>\n",
       "      <td>S</td>\n",
       "    </tr>\n",
       "    <tr>\n",
       "      <th>4</th>\n",
       "      <td>5</td>\n",
       "      <td>3</td>\n",
       "      <td>Allen, Mr. William Henry</td>\n",
       "      <td>male</td>\n",
       "      <td>35.0</td>\n",
       "      <td>0</td>\n",
       "      <td>0</td>\n",
       "      <td>373450</td>\n",
       "      <td>8.0500</td>\n",
       "      <td>NaN</td>\n",
       "      <td>S</td>\n",
       "    </tr>\n",
       "  </tbody>\n",
       "</table>\n",
       "</div>"
      ],
      "text/plain": [
       "   PassengerId  Pclass  ... Cabin Embarked\n",
       "0            1       3  ...   NaN        S\n",
       "1            2       1  ...   C85        C\n",
       "2            3       3  ...   NaN        S\n",
       "3            4       1  ...  C123        S\n",
       "4            5       3  ...   NaN        S\n",
       "\n",
       "[5 rows x 11 columns]"
      ]
     },
     "metadata": {},
     "output_type": "display_data"
    },
    {
     "name": "stdout",
     "output_type": "stream",
     "text": [
      "Data info \n",
      " \n",
      "<class 'pandas.core.frame.DataFrame'>\n",
      "Index: 1309 entries, 0 to 417\n",
      "Data columns (total 11 columns):\n",
      " #   Column       Non-Null Count  Dtype  \n",
      "---  ------       --------------  -----  \n",
      " 0   PassengerId  1309 non-null   int64  \n",
      " 1   Pclass       1309 non-null   int64  \n",
      " 2   Name         1309 non-null   object \n",
      " 3   Sex          1309 non-null   object \n",
      " 4   Age          1046 non-null   float64\n",
      " 5   SibSp        1309 non-null   int64  \n",
      " 6   Parch        1309 non-null   int64  \n",
      " 7   Ticket       1309 non-null   object \n",
      " 8   Fare         1308 non-null   float64\n",
      " 9   Cabin        295 non-null    object \n",
      " 10  Embarked     1307 non-null   object \n",
      "dtypes: float64(2), int64(4), object(5)\n",
      "memory usage: 122.7+ KB\n"
     ]
    },
    {
     "data": {
      "text/plain": [
       "None"
      ]
     },
     "metadata": {},
     "output_type": "display_data"
    }
   ],
   "source": [
    "data = pd.concat((train,test),axis=0)\n",
    "display(data.head())\n",
    "print(\"Data info \\n \")\n",
    "display(data.info())"
   ]
  },
  {
   "cell_type": "markdown",
   "id": "e4ac461e",
   "metadata": {},
   "source": [
    "### Data cleaning"
   ]
  },
  {
   "cell_type": "code",
   "execution_count": 40,
   "id": "ce944a4a",
   "metadata": {},
   "outputs": [],
   "source": [
    "numerical_feature = [\"Age\",\"Fare\"]\n",
    "numerical_transformer = SimpleImputer(strategy=\"median\")\n",
    "\n"
   ]
  },
  {
   "cell_type": "code",
   "execution_count": 41,
   "id": "efba8648",
   "metadata": {},
   "outputs": [],
   "source": [
    "categorical_feature = [\"Embarked\"]\n",
    "categorical_transformer = SimpleImputer(strategy=\"most_frequent\")\n"
   ]
  },
  {
   "cell_type": "code",
   "execution_count": 42,
   "id": "de51e981",
   "metadata": {},
   "outputs": [],
   "source": [
    "preprocessor = ColumnTransformer(\n",
    "    transformers = [\n",
    "        (\"num\",numerical_transformer,numerical_feature),\n",
    "        (\"cat\",categorical_transformer,categorical_feature)\n",
    "    \n",
    "],remainder = \"passthrough\")\n",
    "\n"
   ]
  },
  {
   "cell_type": "code",
   "execution_count": 43,
   "id": "f7c5dedb",
   "metadata": {},
   "outputs": [],
   "source": [
    "all_cols = numerical_feature + categorical_feature+ [c for c in data.columns if c not in numerical_feature+categorical_feature]"
   ]
  },
  {
   "cell_type": "code",
   "execution_count": 44,
   "id": "ea1df99a",
   "metadata": {},
   "outputs": [
    {
     "data": {
      "text/plain": [
       "['Age',\n",
       " 'Fare',\n",
       " 'Embarked',\n",
       " 'PassengerId',\n",
       " 'Pclass',\n",
       " 'Name',\n",
       " 'Sex',\n",
       " 'SibSp',\n",
       " 'Parch',\n",
       " 'Ticket',\n",
       " 'Cabin']"
      ]
     },
     "execution_count": 44,
     "metadata": {},
     "output_type": "execute_result"
    }
   ],
   "source": [
    "all_cols"
   ]
  },
  {
   "cell_type": "code",
   "execution_count": 45,
   "id": "51f09a27",
   "metadata": {},
   "outputs": [],
   "source": [
    "data_cleaned = preprocessor.fit_transform(data)\n",
    "data_cleaned = pd.DataFrame(data_cleaned,columns=all_cols)"
   ]
  },
  {
   "cell_type": "code",
   "execution_count": 46,
   "id": "725aa604",
   "metadata": {},
   "outputs": [
    {
     "data": {
      "text/html": [
       "<div>\n",
       "<style scoped>\n",
       "    .dataframe tbody tr th:only-of-type {\n",
       "        vertical-align: middle;\n",
       "    }\n",
       "\n",
       "    .dataframe tbody tr th {\n",
       "        vertical-align: top;\n",
       "    }\n",
       "\n",
       "    .dataframe thead th {\n",
       "        text-align: right;\n",
       "    }\n",
       "</style>\n",
       "<table border=\"1\" class=\"dataframe\">\n",
       "  <thead>\n",
       "    <tr style=\"text-align: right;\">\n",
       "      <th></th>\n",
       "      <th>Age</th>\n",
       "      <th>Fare</th>\n",
       "      <th>Embarked</th>\n",
       "      <th>PassengerId</th>\n",
       "      <th>Pclass</th>\n",
       "      <th>Name</th>\n",
       "      <th>Sex</th>\n",
       "      <th>SibSp</th>\n",
       "      <th>Parch</th>\n",
       "      <th>Ticket</th>\n",
       "      <th>Cabin</th>\n",
       "    </tr>\n",
       "  </thead>\n",
       "  <tbody>\n",
       "    <tr>\n",
       "      <th>0</th>\n",
       "      <td>22.0</td>\n",
       "      <td>7.25</td>\n",
       "      <td>S</td>\n",
       "      <td>1</td>\n",
       "      <td>3</td>\n",
       "      <td>Braund, Mr. Owen Harris</td>\n",
       "      <td>male</td>\n",
       "      <td>1</td>\n",
       "      <td>0</td>\n",
       "      <td>A/5 21171</td>\n",
       "      <td>NaN</td>\n",
       "    </tr>\n",
       "    <tr>\n",
       "      <th>1</th>\n",
       "      <td>38.0</td>\n",
       "      <td>71.2833</td>\n",
       "      <td>C</td>\n",
       "      <td>2</td>\n",
       "      <td>1</td>\n",
       "      <td>Cumings, Mrs. John Bradley (Florence Briggs Th...</td>\n",
       "      <td>female</td>\n",
       "      <td>1</td>\n",
       "      <td>0</td>\n",
       "      <td>PC 17599</td>\n",
       "      <td>C85</td>\n",
       "    </tr>\n",
       "    <tr>\n",
       "      <th>2</th>\n",
       "      <td>26.0</td>\n",
       "      <td>7.925</td>\n",
       "      <td>S</td>\n",
       "      <td>3</td>\n",
       "      <td>3</td>\n",
       "      <td>Heikkinen, Miss. Laina</td>\n",
       "      <td>female</td>\n",
       "      <td>0</td>\n",
       "      <td>0</td>\n",
       "      <td>STON/O2. 3101282</td>\n",
       "      <td>NaN</td>\n",
       "    </tr>\n",
       "    <tr>\n",
       "      <th>3</th>\n",
       "      <td>35.0</td>\n",
       "      <td>53.1</td>\n",
       "      <td>S</td>\n",
       "      <td>4</td>\n",
       "      <td>1</td>\n",
       "      <td>Futrelle, Mrs. Jacques Heath (Lily May Peel)</td>\n",
       "      <td>female</td>\n",
       "      <td>1</td>\n",
       "      <td>0</td>\n",
       "      <td>113803</td>\n",
       "      <td>C123</td>\n",
       "    </tr>\n",
       "    <tr>\n",
       "      <th>4</th>\n",
       "      <td>35.0</td>\n",
       "      <td>8.05</td>\n",
       "      <td>S</td>\n",
       "      <td>5</td>\n",
       "      <td>3</td>\n",
       "      <td>Allen, Mr. William Henry</td>\n",
       "      <td>male</td>\n",
       "      <td>0</td>\n",
       "      <td>0</td>\n",
       "      <td>373450</td>\n",
       "      <td>NaN</td>\n",
       "    </tr>\n",
       "    <tr>\n",
       "      <th>...</th>\n",
       "      <td>...</td>\n",
       "      <td>...</td>\n",
       "      <td>...</td>\n",
       "      <td>...</td>\n",
       "      <td>...</td>\n",
       "      <td>...</td>\n",
       "      <td>...</td>\n",
       "      <td>...</td>\n",
       "      <td>...</td>\n",
       "      <td>...</td>\n",
       "      <td>...</td>\n",
       "    </tr>\n",
       "    <tr>\n",
       "      <th>1304</th>\n",
       "      <td>28.0</td>\n",
       "      <td>8.05</td>\n",
       "      <td>S</td>\n",
       "      <td>1305</td>\n",
       "      <td>3</td>\n",
       "      <td>Spector, Mr. Woolf</td>\n",
       "      <td>male</td>\n",
       "      <td>0</td>\n",
       "      <td>0</td>\n",
       "      <td>A.5. 3236</td>\n",
       "      <td>NaN</td>\n",
       "    </tr>\n",
       "    <tr>\n",
       "      <th>1305</th>\n",
       "      <td>39.0</td>\n",
       "      <td>108.9</td>\n",
       "      <td>C</td>\n",
       "      <td>1306</td>\n",
       "      <td>1</td>\n",
       "      <td>Oliva y Ocana, Dona. Fermina</td>\n",
       "      <td>female</td>\n",
       "      <td>0</td>\n",
       "      <td>0</td>\n",
       "      <td>PC 17758</td>\n",
       "      <td>C105</td>\n",
       "    </tr>\n",
       "    <tr>\n",
       "      <th>1306</th>\n",
       "      <td>38.5</td>\n",
       "      <td>7.25</td>\n",
       "      <td>S</td>\n",
       "      <td>1307</td>\n",
       "      <td>3</td>\n",
       "      <td>Saether, Mr. Simon Sivertsen</td>\n",
       "      <td>male</td>\n",
       "      <td>0</td>\n",
       "      <td>0</td>\n",
       "      <td>SOTON/O.Q. 3101262</td>\n",
       "      <td>NaN</td>\n",
       "    </tr>\n",
       "    <tr>\n",
       "      <th>1307</th>\n",
       "      <td>28.0</td>\n",
       "      <td>8.05</td>\n",
       "      <td>S</td>\n",
       "      <td>1308</td>\n",
       "      <td>3</td>\n",
       "      <td>Ware, Mr. Frederick</td>\n",
       "      <td>male</td>\n",
       "      <td>0</td>\n",
       "      <td>0</td>\n",
       "      <td>359309</td>\n",
       "      <td>NaN</td>\n",
       "    </tr>\n",
       "    <tr>\n",
       "      <th>1308</th>\n",
       "      <td>28.0</td>\n",
       "      <td>22.3583</td>\n",
       "      <td>C</td>\n",
       "      <td>1309</td>\n",
       "      <td>3</td>\n",
       "      <td>Peter, Master. Michael J</td>\n",
       "      <td>male</td>\n",
       "      <td>1</td>\n",
       "      <td>1</td>\n",
       "      <td>2668</td>\n",
       "      <td>NaN</td>\n",
       "    </tr>\n",
       "  </tbody>\n",
       "</table>\n",
       "<p>1309 rows × 11 columns</p>\n",
       "</div>"
      ],
      "text/plain": [
       "       Age     Fare Embarked  ... Parch              Ticket Cabin\n",
       "0     22.0     7.25        S  ...     0           A/5 21171   NaN\n",
       "1     38.0  71.2833        C  ...     0            PC 17599   C85\n",
       "2     26.0    7.925        S  ...     0    STON/O2. 3101282   NaN\n",
       "3     35.0     53.1        S  ...     0              113803  C123\n",
       "4     35.0     8.05        S  ...     0              373450   NaN\n",
       "...    ...      ...      ...  ...   ...                 ...   ...\n",
       "1304  28.0     8.05        S  ...     0           A.5. 3236   NaN\n",
       "1305  39.0    108.9        C  ...     0            PC 17758  C105\n",
       "1306  38.5     7.25        S  ...     0  SOTON/O.Q. 3101262   NaN\n",
       "1307  28.0     8.05        S  ...     0              359309   NaN\n",
       "1308  28.0  22.3583        C  ...     1                2668   NaN\n",
       "\n",
       "[1309 rows x 11 columns]"
      ]
     },
     "execution_count": 46,
     "metadata": {},
     "output_type": "execute_result"
    }
   ],
   "source": [
    "data_cleaned"
   ]
  },
  {
   "cell_type": "code",
   "execution_count": 47,
   "id": "71171116",
   "metadata": {},
   "outputs": [
    {
     "name": "stdout",
     "output_type": "stream",
     "text": [
      "<class 'pandas.core.frame.DataFrame'>\n",
      "RangeIndex: 1309 entries, 0 to 1308\n",
      "Data columns (total 11 columns):\n",
      " #   Column       Non-Null Count  Dtype \n",
      "---  ------       --------------  ----- \n",
      " 0   Age          1309 non-null   object\n",
      " 1   Fare         1309 non-null   object\n",
      " 2   Embarked     1309 non-null   object\n",
      " 3   PassengerId  1309 non-null   object\n",
      " 4   Pclass       1309 non-null   object\n",
      " 5   Name         1309 non-null   object\n",
      " 6   Sex          1309 non-null   object\n",
      " 7   SibSp        1309 non-null   object\n",
      " 8   Parch        1309 non-null   object\n",
      " 9   Ticket       1309 non-null   object\n",
      " 10  Cabin        295 non-null    object\n",
      "dtypes: object(11)\n",
      "memory usage: 112.6+ KB\n"
     ]
    }
   ],
   "source": [
    "data_cleaned.info()"
   ]
  },
  {
   "cell_type": "markdown",
   "id": "871ad258",
   "metadata": {},
   "source": [
    "###  Feature Engineering"
   ]
  },
  {
   "cell_type": "code",
   "execution_count": 48,
   "id": "247943a6",
   "metadata": {},
   "outputs": [],
   "source": [
    "data_cleaned[\"Family_size\"] = data_cleaned[\"SibSp\"]+data_cleaned[\"Parch\"]+1\n",
    "\n"
   ]
  },
  {
   "cell_type": "code",
   "execution_count": 49,
   "id": "85e621c3",
   "metadata": {},
   "outputs": [
    {
     "data": {
      "text/plain": [
       "0       2\n",
       "1       2\n",
       "2       1\n",
       "3       2\n",
       "4       1\n",
       "       ..\n",
       "1304    1\n",
       "1305    1\n",
       "1306    1\n",
       "1307    1\n",
       "1308    3\n",
       "Name: Family_size, Length: 1309, dtype: object"
      ]
     },
     "execution_count": 49,
     "metadata": {},
     "output_type": "execute_result"
    }
   ],
   "source": [
    "data_cleaned.Family_size"
   ]
  },
  {
   "cell_type": "code",
   "execution_count": 55,
   "id": "3e38ba9b",
   "metadata": {},
   "outputs": [],
   "source": [
    "def extract_deck(Cabin):\n",
    "    if pd.isnull(Cabin):\n",
    "        return \"Unknown\"\n",
    "    else:\n",
    "        return Cabin[0]\n",
    "    \n",
    "def extract_title(Name):\n",
    "    if pd.isnull(Name):\n",
    "        return \"Unknown\"\n",
    "    else:\n",
    "        parts = Name.split(',')\n",
    "        if len(parts)>1:\n",
    "            title = parts[1].split('.')[0]\n",
    "            return title\n",
    "        else:\n",
    "            return \"Unknown\"\n",
    "        \n",
    "    "
   ]
  },
  {
   "cell_type": "code",
   "execution_count": 51,
   "id": "768ac380",
   "metadata": {},
   "outputs": [
    {
     "data": {
      "text/plain": [
       "0        NaN\n",
       "1        C85\n",
       "2        NaN\n",
       "3       C123\n",
       "4        NaN\n",
       "        ... \n",
       "1304     NaN\n",
       "1305    C105\n",
       "1306     NaN\n",
       "1307     NaN\n",
       "1308     NaN\n",
       "Name: Cabin, Length: 1309, dtype: object"
      ]
     },
     "execution_count": 51,
     "metadata": {},
     "output_type": "execute_result"
    }
   ],
   "source": [
    "data_cleaned.Cabin"
   ]
  },
  {
   "cell_type": "code",
   "execution_count": 53,
   "id": "30b62ee3",
   "metadata": {},
   "outputs": [
    {
     "data": {
      "text/plain": [
       "0                                 Braund, Mr. Owen Harris\n",
       "1       Cumings, Mrs. John Bradley (Florence Briggs Th...\n",
       "2                                  Heikkinen, Miss. Laina\n",
       "3            Futrelle, Mrs. Jacques Heath (Lily May Peel)\n",
       "4                                Allen, Mr. William Henry\n",
       "                              ...                        \n",
       "1304                                   Spector, Mr. Woolf\n",
       "1305                         Oliva y Ocana, Dona. Fermina\n",
       "1306                         Saether, Mr. Simon Sivertsen\n",
       "1307                                  Ware, Mr. Frederick\n",
       "1308                             Peter, Master. Michael J\n",
       "Name: Name, Length: 1309, dtype: object"
      ]
     },
     "execution_count": 53,
     "metadata": {},
     "output_type": "execute_result"
    }
   ],
   "source": [
    "data_cleaned.Name"
   ]
  },
  {
   "cell_type": "code",
   "execution_count": 56,
   "id": "5cf0c116",
   "metadata": {},
   "outputs": [],
   "source": [
    "data_cleaned[\"Cabin\"] = data_cleaned[\"Cabin\"].apply(extract_deck)"
   ]
  },
  {
   "cell_type": "code",
   "execution_count": 57,
   "id": "64c7f3eb",
   "metadata": {},
   "outputs": [
    {
     "data": {
      "text/plain": [
       "0       Unknown\n",
       "1             C\n",
       "2       Unknown\n",
       "3             C\n",
       "4       Unknown\n",
       "         ...   \n",
       "1304    Unknown\n",
       "1305          C\n",
       "1306    Unknown\n",
       "1307    Unknown\n",
       "1308    Unknown\n",
       "Name: Cabin, Length: 1309, dtype: object"
      ]
     },
     "execution_count": 57,
     "metadata": {},
     "output_type": "execute_result"
    }
   ],
   "source": [
    "data_cleaned.Cabin"
   ]
  },
  {
   "cell_type": "code",
   "execution_count": 58,
   "id": "c49308b0",
   "metadata": {},
   "outputs": [],
   "source": [
    "data_cleaned[\"Title\"] = data_cleaned[\"Name\"].apply(extract_title)"
   ]
  },
  {
   "cell_type": "code",
   "execution_count": 60,
   "id": "5a81f8be",
   "metadata": {},
   "outputs": [
    {
     "data": {
      "text/plain": [
       "0            Mr\n",
       "1           Mrs\n",
       "2          Miss\n",
       "3           Mrs\n",
       "4            Mr\n",
       "         ...   \n",
       "1304         Mr\n",
       "1305       Dona\n",
       "1306         Mr\n",
       "1307         Mr\n",
       "1308     Master\n",
       "Name: Title, Length: 1309, dtype: object"
      ]
     },
     "execution_count": 60,
     "metadata": {},
     "output_type": "execute_result"
    }
   ],
   "source": [
    "data_cleaned.Title"
   ]
  },
  {
   "cell_type": "code",
   "execution_count": 63,
   "id": "acf1cd6d",
   "metadata": {},
   "outputs": [
    {
     "data": {
      "text/html": [
       "<div>\n",
       "<style scoped>\n",
       "    .dataframe tbody tr th:only-of-type {\n",
       "        vertical-align: middle;\n",
       "    }\n",
       "\n",
       "    .dataframe tbody tr th {\n",
       "        vertical-align: top;\n",
       "    }\n",
       "\n",
       "    .dataframe thead th {\n",
       "        text-align: right;\n",
       "    }\n",
       "</style>\n",
       "<table border=\"1\" class=\"dataframe\">\n",
       "  <thead>\n",
       "    <tr style=\"text-align: right;\">\n",
       "      <th></th>\n",
       "      <th>Age</th>\n",
       "      <th>Fare</th>\n",
       "      <th>Embarked</th>\n",
       "      <th>PassengerId</th>\n",
       "      <th>Pclass</th>\n",
       "      <th>Name</th>\n",
       "      <th>Sex</th>\n",
       "      <th>SibSp</th>\n",
       "      <th>Parch</th>\n",
       "      <th>Ticket</th>\n",
       "      <th>Cabin</th>\n",
       "      <th>Family_size</th>\n",
       "      <th>Title</th>\n",
       "    </tr>\n",
       "  </thead>\n",
       "  <tbody>\n",
       "    <tr>\n",
       "      <th>0</th>\n",
       "      <td>22.0</td>\n",
       "      <td>7.25</td>\n",
       "      <td>S</td>\n",
       "      <td>1</td>\n",
       "      <td>3</td>\n",
       "      <td>Braund, Mr. Owen Harris</td>\n",
       "      <td>male</td>\n",
       "      <td>1</td>\n",
       "      <td>0</td>\n",
       "      <td>A/5 21171</td>\n",
       "      <td>Unknown</td>\n",
       "      <td>2</td>\n",
       "      <td>Mr</td>\n",
       "    </tr>\n",
       "    <tr>\n",
       "      <th>1</th>\n",
       "      <td>38.0</td>\n",
       "      <td>71.2833</td>\n",
       "      <td>C</td>\n",
       "      <td>2</td>\n",
       "      <td>1</td>\n",
       "      <td>Cumings, Mrs. John Bradley (Florence Briggs Th...</td>\n",
       "      <td>female</td>\n",
       "      <td>1</td>\n",
       "      <td>0</td>\n",
       "      <td>PC 17599</td>\n",
       "      <td>C</td>\n",
       "      <td>2</td>\n",
       "      <td>Mrs</td>\n",
       "    </tr>\n",
       "  </tbody>\n",
       "</table>\n",
       "</div>"
      ],
      "text/plain": [
       "    Age     Fare Embarked  ...    Cabin Family_size Title\n",
       "0  22.0     7.25        S  ...  Unknown           2    Mr\n",
       "1  38.0  71.2833        C  ...        C           2   Mrs\n",
       "\n",
       "[2 rows x 13 columns]"
      ]
     },
     "execution_count": 63,
     "metadata": {},
     "output_type": "execute_result"
    }
   ],
   "source": [
    "data_cleaned.head(2)"
   ]
  },
  {
   "cell_type": "code",
   "execution_count": 64,
   "id": "a8d076cf",
   "metadata": {},
   "outputs": [
    {
     "name": "stdout",
     "output_type": "stream",
     "text": [
      "Title\n",
      "Mr              757\n",
      "Miss            260\n",
      "Mrs             197\n",
      "Master           61\n",
      "Rev               8\n",
      "Dr                8\n",
      "Col               4\n",
      "Mlle              2\n",
      "Major             2\n",
      "Ms                2\n",
      "Lady              1\n",
      "Sir               1\n",
      "Mme               1\n",
      "Don               1\n",
      "Capt              1\n",
      "the Countess      1\n",
      "Jonkheer          1\n",
      "Dona              1\n",
      "Name: count, dtype: int64\n"
     ]
    }
   ],
   "source": [
    "data_cleaned.drop(columns=[\"PassengerId\",\"Name\",\"SibSp\",\"Parch\",\"Ticket\"],inplace=True)\n",
    "\n",
    "print(data_cleaned[\"Title\"].value_counts())\n"
   ]
  },
  {
   "cell_type": "code",
   "execution_count": 68,
   "id": "0058e65f",
   "metadata": {},
   "outputs": [
    {
     "data": {
      "text/plain": [
       "Title\n",
       "Mr              757\n",
       "Miss            264\n",
       "Mrs             198\n",
       "Master           61\n",
       "Rev               8\n",
       "Dr                8\n",
       "Col               4\n",
       "Major             2\n",
       "Don               1\n",
       "Lady              1\n",
       "Sir               1\n",
       "Capt              1\n",
       "the Countess      1\n",
       "Jonkheer          1\n",
       "Dona              1\n",
       "Name: count, dtype: int64"
      ]
     },
     "execution_count": 68,
     "metadata": {},
     "output_type": "execute_result"
    }
   ],
   "source": [
    "data_cleaned['Title'] = data_cleaned[\"Title\"].str.strip()\n",
    "\n",
    "data_cleaned[\"Title\"] = data_cleaned[\"Title\"].replace([\"Ms\",\"Mlle\"],\"Miss\")\n",
    "\n",
    "data_cleaned[\"Title\"] = data_cleaned[\"Title\"].replace('Mme',\"Mrs\")\n",
    "\n",
    "data_cleaned[\"Title\"].value_counts()\n"
   ]
  },
  {
   "cell_type": "code",
   "execution_count": 69,
   "id": "05dd21c1",
   "metadata": {},
   "outputs": [],
   "source": [
    "rare_titles=[\"Don\",\"Rev\",\"Dr\",\"Major\",\"Lady\",\"Sir\",\"Col\",\"Capt\",\"the Countess\",\"JonKheer\",\"Dona\"]\n",
    "\n",
    "def extract_rare_titles(Title):\n",
    "    if Title in rare_titles:\n",
    "        return \"Rare\"\n",
    "    else:\n",
    "        return Title\n",
    "    \n",
    "data_cleaned['Title']=data_cleaned['Title'].apply(extract_rare_titles)"
   ]
  },
  {
   "cell_type": "code",
   "execution_count": 70,
   "id": "ab576ee9",
   "metadata": {},
   "outputs": [
    {
     "name": "stdout",
     "output_type": "stream",
     "text": [
      "Is_alone\n",
      "1    790\n",
      "0    519\n",
      "Name: count, dtype: int64\n"
     ]
    }
   ],
   "source": [
    "data_cleaned['Is_alone']=data_cleaned['Family_size'].apply(lambda x:1 if x==1 else 0)\n",
    "print(data_cleaned['Is_alone'].value_counts())"
   ]
  },
  {
   "cell_type": "code",
   "execution_count": 72,
   "id": "75b498da",
   "metadata": {},
   "outputs": [
    {
     "data": {
      "text/plain": [
       "Is_Male\n",
       "1    843\n",
       "0    466\n",
       "Name: count, dtype: int64"
      ]
     },
     "execution_count": 72,
     "metadata": {},
     "output_type": "execute_result"
    }
   ],
   "source": [
    "data_cleaned.rename(columns={\"Cabin\":\"Known_Cabin\",\"Sex\":\"Is_Male\"},inplace=True)\n",
    "data_cleaned[\"Is_Male\"] = data_cleaned[\"Is_Male\"].apply(lambda x:1 if x==\"male\" else 0)\n",
    "data_cleaned[\"Is_Male\"].value_counts()"
   ]
  },
  {
   "cell_type": "code",
   "execution_count": 73,
   "id": "2cfc737a",
   "metadata": {},
   "outputs": [],
   "source": [
    "data_cleaned[\"Known_Cabin\"] = data_cleaned[\"Known_Cabin\"].apply(lambda x:0 if x==\"Unknown\" else 1)\n"
   ]
  },
  {
   "cell_type": "code",
   "execution_count": 74,
   "id": "5d1beeb0",
   "metadata": {},
   "outputs": [
    {
     "data": {
      "text/plain": [
       "Known_Cabin\n",
       "0    1014\n",
       "1     295\n",
       "Name: count, dtype: int64"
      ]
     },
     "execution_count": 74,
     "metadata": {},
     "output_type": "execute_result"
    }
   ],
   "source": [
    "data_cleaned[\"Known_Cabin\"].value_counts()"
   ]
  },
  {
   "cell_type": "code",
   "execution_count": 75,
   "id": "d669bd15",
   "metadata": {},
   "outputs": [],
   "source": [
    "def categories_age(Age):\n",
    "    if Age<12:\n",
    "        return \"Child\"\n",
    "    elif Age<20:\n",
    "        return \"Teen\"\n",
    "    elif Age<40:\n",
    "        return \"YoungAdult\"\n",
    "    elif Age<60:\n",
    "        return \"Adult\"\n",
    "    else:\n",
    "        return \"Senior\"\n",
    "    \n",
    "data_cleaned[\"Age_Group\"] = data_cleaned[\"Age\"].apply(categories_age)\n"
   ]
  },
  {
   "cell_type": "code",
   "execution_count": 76,
   "id": "f37b82ab",
   "metadata": {},
   "outputs": [
    {
     "data": {
      "text/plain": [
       "Age_Group\n",
       "YoungAdult    839\n",
       "Adult         205\n",
       "Teen          134\n",
       "Child          91\n",
       "Senior         40\n",
       "Name: count, dtype: int64"
      ]
     },
     "execution_count": 76,
     "metadata": {},
     "output_type": "execute_result"
    }
   ],
   "source": [
    "data_cleaned[\"Age_Group\"].value_counts()"
   ]
  },
  {
   "cell_type": "code",
   "execution_count": 77,
   "id": "5d47cc60",
   "metadata": {},
   "outputs": [],
   "source": [
    "data_cleaned.drop(columns=[\"Age\",\"Family_size\"],inplace=True)"
   ]
  },
  {
   "cell_type": "code",
   "execution_count": 78,
   "id": "dd743444",
   "metadata": {},
   "outputs": [
    {
     "data": {
      "text/plain": [
       "(1309, 8)"
      ]
     },
     "execution_count": 78,
     "metadata": {},
     "output_type": "execute_result"
    }
   ],
   "source": [
    "data_cleaned.shape"
   ]
  },
  {
   "cell_type": "markdown",
   "id": "4bcf83b0",
   "metadata": {},
   "source": [
    "### Data Preprocessing"
   ]
  },
  {
   "cell_type": "code",
   "execution_count": 79,
   "id": "ebcb4947",
   "metadata": {},
   "outputs": [],
   "source": [
    "scaler = StandardScaler()\n",
    "data_cleaned[\"Fare\"] = scaler.fit_transform(data_cleaned[[\"Fare\"]])\n",
    "\n",
    "oe = OrdinalEncoder()\n",
    "data_cleaned[\"Age_Group\"] = oe.fit_transform(data_cleaned[[\"Age_Group\"]])\n",
    "\n"
   ]
  },
  {
   "cell_type": "code",
   "execution_count": 80,
   "id": "e421f490",
   "metadata": {},
   "outputs": [],
   "source": [
    "data_processed = pd.get_dummies(data_cleaned,drop_first=True)"
   ]
  },
  {
   "cell_type": "code",
   "execution_count": 82,
   "id": "28c8fc0a",
   "metadata": {},
   "outputs": [
    {
     "data": {
      "text/html": [
       "<div>\n",
       "<style scoped>\n",
       "    .dataframe tbody tr th:only-of-type {\n",
       "        vertical-align: middle;\n",
       "    }\n",
       "\n",
       "    .dataframe tbody tr th {\n",
       "        vertical-align: top;\n",
       "    }\n",
       "\n",
       "    .dataframe thead th {\n",
       "        text-align: right;\n",
       "    }\n",
       "</style>\n",
       "<table border=\"1\" class=\"dataframe\">\n",
       "  <thead>\n",
       "    <tr style=\"text-align: right;\">\n",
       "      <th></th>\n",
       "      <th>Fare</th>\n",
       "      <th>Is_Male</th>\n",
       "      <th>Known_Cabin</th>\n",
       "      <th>Is_alone</th>\n",
       "      <th>Age_Group</th>\n",
       "      <th>Embarked_Q</th>\n",
       "      <th>Embarked_S</th>\n",
       "      <th>Pclass_2</th>\n",
       "      <th>Pclass_3</th>\n",
       "      <th>Title_Master</th>\n",
       "      <th>Title_Miss</th>\n",
       "      <th>Title_Mr</th>\n",
       "      <th>Title_Mrs</th>\n",
       "      <th>Title_Rare</th>\n",
       "    </tr>\n",
       "  </thead>\n",
       "  <tbody>\n",
       "    <tr>\n",
       "      <th>0</th>\n",
       "      <td>-0.503291</td>\n",
       "      <td>1.0</td>\n",
       "      <td>0.0</td>\n",
       "      <td>0.0</td>\n",
       "      <td>4.0</td>\n",
       "      <td>0.0</td>\n",
       "      <td>1.0</td>\n",
       "      <td>0.0</td>\n",
       "      <td>1.0</td>\n",
       "      <td>0.0</td>\n",
       "      <td>0.0</td>\n",
       "      <td>1.0</td>\n",
       "      <td>0.0</td>\n",
       "      <td>0.0</td>\n",
       "    </tr>\n",
       "    <tr>\n",
       "      <th>1</th>\n",
       "      <td>0.734744</td>\n",
       "      <td>0.0</td>\n",
       "      <td>1.0</td>\n",
       "      <td>0.0</td>\n",
       "      <td>4.0</td>\n",
       "      <td>0.0</td>\n",
       "      <td>0.0</td>\n",
       "      <td>0.0</td>\n",
       "      <td>0.0</td>\n",
       "      <td>0.0</td>\n",
       "      <td>0.0</td>\n",
       "      <td>0.0</td>\n",
       "      <td>1.0</td>\n",
       "      <td>0.0</td>\n",
       "    </tr>\n",
       "    <tr>\n",
       "      <th>2</th>\n",
       "      <td>-0.490240</td>\n",
       "      <td>0.0</td>\n",
       "      <td>0.0</td>\n",
       "      <td>1.0</td>\n",
       "      <td>4.0</td>\n",
       "      <td>0.0</td>\n",
       "      <td>1.0</td>\n",
       "      <td>0.0</td>\n",
       "      <td>1.0</td>\n",
       "      <td>0.0</td>\n",
       "      <td>1.0</td>\n",
       "      <td>0.0</td>\n",
       "      <td>0.0</td>\n",
       "      <td>0.0</td>\n",
       "    </tr>\n",
       "    <tr>\n",
       "      <th>3</th>\n",
       "      <td>0.383183</td>\n",
       "      <td>0.0</td>\n",
       "      <td>1.0</td>\n",
       "      <td>0.0</td>\n",
       "      <td>4.0</td>\n",
       "      <td>0.0</td>\n",
       "      <td>1.0</td>\n",
       "      <td>0.0</td>\n",
       "      <td>0.0</td>\n",
       "      <td>0.0</td>\n",
       "      <td>0.0</td>\n",
       "      <td>0.0</td>\n",
       "      <td>1.0</td>\n",
       "      <td>0.0</td>\n",
       "    </tr>\n",
       "    <tr>\n",
       "      <th>4</th>\n",
       "      <td>-0.487824</td>\n",
       "      <td>1.0</td>\n",
       "      <td>0.0</td>\n",
       "      <td>1.0</td>\n",
       "      <td>4.0</td>\n",
       "      <td>0.0</td>\n",
       "      <td>1.0</td>\n",
       "      <td>0.0</td>\n",
       "      <td>1.0</td>\n",
       "      <td>0.0</td>\n",
       "      <td>0.0</td>\n",
       "      <td>1.0</td>\n",
       "      <td>0.0</td>\n",
       "      <td>0.0</td>\n",
       "    </tr>\n",
       "  </tbody>\n",
       "</table>\n",
       "</div>"
      ],
      "text/plain": [
       "       Fare  Is_Male  Known_Cabin  ...  Title_Mr  Title_Mrs  Title_Rare\n",
       "0 -0.503291      1.0          0.0  ...       1.0        0.0         0.0\n",
       "1  0.734744      0.0          1.0  ...       0.0        1.0         0.0\n",
       "2 -0.490240      0.0          0.0  ...       0.0        0.0         0.0\n",
       "3  0.383183      0.0          1.0  ...       0.0        1.0         0.0\n",
       "4 -0.487824      1.0          0.0  ...       1.0        0.0         0.0\n",
       "\n",
       "[5 rows x 14 columns]"
      ]
     },
     "execution_count": 82,
     "metadata": {},
     "output_type": "execute_result"
    }
   ],
   "source": [
    "data_processed = data_processed.astype(\"float\")\n",
    "data_processed.head()"
   ]
  },
  {
   "cell_type": "code",
   "execution_count": 83,
   "id": "be72f80f",
   "metadata": {},
   "outputs": [],
   "source": [
    "train = data_processed.iloc[:n_train,:]\n",
    "test = data_processed.iloc[n_train:,:]\n",
    "\n"
   ]
  },
  {
   "cell_type": "code",
   "execution_count": 84,
   "id": "5d46fad7",
   "metadata": {},
   "outputs": [
    {
     "data": {
      "text/html": [
       "<div>\n",
       "<style scoped>\n",
       "    .dataframe tbody tr th:only-of-type {\n",
       "        vertical-align: middle;\n",
       "    }\n",
       "\n",
       "    .dataframe tbody tr th {\n",
       "        vertical-align: top;\n",
       "    }\n",
       "\n",
       "    .dataframe thead th {\n",
       "        text-align: right;\n",
       "    }\n",
       "</style>\n",
       "<table border=\"1\" class=\"dataframe\">\n",
       "  <thead>\n",
       "    <tr style=\"text-align: right;\">\n",
       "      <th></th>\n",
       "      <th>Fare</th>\n",
       "      <th>Is_Male</th>\n",
       "      <th>Known_Cabin</th>\n",
       "      <th>Is_alone</th>\n",
       "      <th>Age_Group</th>\n",
       "      <th>Embarked_Q</th>\n",
       "      <th>Embarked_S</th>\n",
       "      <th>Pclass_2</th>\n",
       "      <th>Pclass_3</th>\n",
       "      <th>Title_Master</th>\n",
       "      <th>Title_Miss</th>\n",
       "      <th>Title_Mr</th>\n",
       "      <th>Title_Mrs</th>\n",
       "      <th>Title_Rare</th>\n",
       "    </tr>\n",
       "  </thead>\n",
       "  <tbody>\n",
       "    <tr>\n",
       "      <th>891</th>\n",
       "      <td>-0.492093</td>\n",
       "      <td>1.0</td>\n",
       "      <td>0.0</td>\n",
       "      <td>1.0</td>\n",
       "      <td>4.0</td>\n",
       "      <td>1.0</td>\n",
       "      <td>0.0</td>\n",
       "      <td>0.0</td>\n",
       "      <td>1.0</td>\n",
       "      <td>0.0</td>\n",
       "      <td>0.0</td>\n",
       "      <td>1.0</td>\n",
       "      <td>0.0</td>\n",
       "      <td>0.0</td>\n",
       "    </tr>\n",
       "    <tr>\n",
       "      <th>892</th>\n",
       "      <td>-0.508125</td>\n",
       "      <td>0.0</td>\n",
       "      <td>0.0</td>\n",
       "      <td>0.0</td>\n",
       "      <td>0.0</td>\n",
       "      <td>0.0</td>\n",
       "      <td>1.0</td>\n",
       "      <td>0.0</td>\n",
       "      <td>1.0</td>\n",
       "      <td>0.0</td>\n",
       "      <td>0.0</td>\n",
       "      <td>0.0</td>\n",
       "      <td>1.0</td>\n",
       "      <td>0.0</td>\n",
       "    </tr>\n",
       "    <tr>\n",
       "      <th>893</th>\n",
       "      <td>-0.456164</td>\n",
       "      <td>1.0</td>\n",
       "      <td>0.0</td>\n",
       "      <td>1.0</td>\n",
       "      <td>2.0</td>\n",
       "      <td>1.0</td>\n",
       "      <td>0.0</td>\n",
       "      <td>1.0</td>\n",
       "      <td>0.0</td>\n",
       "      <td>0.0</td>\n",
       "      <td>0.0</td>\n",
       "      <td>1.0</td>\n",
       "      <td>0.0</td>\n",
       "      <td>0.0</td>\n",
       "    </tr>\n",
       "    <tr>\n",
       "      <th>894</th>\n",
       "      <td>-0.475981</td>\n",
       "      <td>1.0</td>\n",
       "      <td>0.0</td>\n",
       "      <td>1.0</td>\n",
       "      <td>4.0</td>\n",
       "      <td>0.0</td>\n",
       "      <td>1.0</td>\n",
       "      <td>0.0</td>\n",
       "      <td>1.0</td>\n",
       "      <td>0.0</td>\n",
       "      <td>0.0</td>\n",
       "      <td>1.0</td>\n",
       "      <td>0.0</td>\n",
       "      <td>0.0</td>\n",
       "    </tr>\n",
       "    <tr>\n",
       "      <th>895</th>\n",
       "      <td>-0.405895</td>\n",
       "      <td>0.0</td>\n",
       "      <td>0.0</td>\n",
       "      <td>0.0</td>\n",
       "      <td>4.0</td>\n",
       "      <td>0.0</td>\n",
       "      <td>1.0</td>\n",
       "      <td>0.0</td>\n",
       "      <td>1.0</td>\n",
       "      <td>0.0</td>\n",
       "      <td>0.0</td>\n",
       "      <td>0.0</td>\n",
       "      <td>1.0</td>\n",
       "      <td>0.0</td>\n",
       "    </tr>\n",
       "    <tr>\n",
       "      <th>...</th>\n",
       "      <td>...</td>\n",
       "      <td>...</td>\n",
       "      <td>...</td>\n",
       "      <td>...</td>\n",
       "      <td>...</td>\n",
       "      <td>...</td>\n",
       "      <td>...</td>\n",
       "      <td>...</td>\n",
       "      <td>...</td>\n",
       "      <td>...</td>\n",
       "      <td>...</td>\n",
       "      <td>...</td>\n",
       "      <td>...</td>\n",
       "      <td>...</td>\n",
       "    </tr>\n",
       "    <tr>\n",
       "      <th>1304</th>\n",
       "      <td>-0.487824</td>\n",
       "      <td>1.0</td>\n",
       "      <td>0.0</td>\n",
       "      <td>1.0</td>\n",
       "      <td>4.0</td>\n",
       "      <td>0.0</td>\n",
       "      <td>1.0</td>\n",
       "      <td>0.0</td>\n",
       "      <td>1.0</td>\n",
       "      <td>0.0</td>\n",
       "      <td>0.0</td>\n",
       "      <td>1.0</td>\n",
       "      <td>0.0</td>\n",
       "      <td>0.0</td>\n",
       "    </tr>\n",
       "    <tr>\n",
       "      <th>1305</th>\n",
       "      <td>1.462034</td>\n",
       "      <td>0.0</td>\n",
       "      <td>1.0</td>\n",
       "      <td>1.0</td>\n",
       "      <td>4.0</td>\n",
       "      <td>0.0</td>\n",
       "      <td>0.0</td>\n",
       "      <td>0.0</td>\n",
       "      <td>0.0</td>\n",
       "      <td>0.0</td>\n",
       "      <td>0.0</td>\n",
       "      <td>0.0</td>\n",
       "      <td>0.0</td>\n",
       "      <td>1.0</td>\n",
       "    </tr>\n",
       "    <tr>\n",
       "      <th>1306</th>\n",
       "      <td>-0.503291</td>\n",
       "      <td>1.0</td>\n",
       "      <td>0.0</td>\n",
       "      <td>1.0</td>\n",
       "      <td>4.0</td>\n",
       "      <td>0.0</td>\n",
       "      <td>1.0</td>\n",
       "      <td>0.0</td>\n",
       "      <td>1.0</td>\n",
       "      <td>0.0</td>\n",
       "      <td>0.0</td>\n",
       "      <td>1.0</td>\n",
       "      <td>0.0</td>\n",
       "      <td>0.0</td>\n",
       "    </tr>\n",
       "    <tr>\n",
       "      <th>1307</th>\n",
       "      <td>-0.487824</td>\n",
       "      <td>1.0</td>\n",
       "      <td>0.0</td>\n",
       "      <td>1.0</td>\n",
       "      <td>4.0</td>\n",
       "      <td>0.0</td>\n",
       "      <td>1.0</td>\n",
       "      <td>0.0</td>\n",
       "      <td>1.0</td>\n",
       "      <td>0.0</td>\n",
       "      <td>0.0</td>\n",
       "      <td>1.0</td>\n",
       "      <td>0.0</td>\n",
       "      <td>0.0</td>\n",
       "    </tr>\n",
       "    <tr>\n",
       "      <th>1308</th>\n",
       "      <td>-0.211184</td>\n",
       "      <td>1.0</td>\n",
       "      <td>0.0</td>\n",
       "      <td>0.0</td>\n",
       "      <td>4.0</td>\n",
       "      <td>0.0</td>\n",
       "      <td>0.0</td>\n",
       "      <td>0.0</td>\n",
       "      <td>1.0</td>\n",
       "      <td>1.0</td>\n",
       "      <td>0.0</td>\n",
       "      <td>0.0</td>\n",
       "      <td>0.0</td>\n",
       "      <td>0.0</td>\n",
       "    </tr>\n",
       "  </tbody>\n",
       "</table>\n",
       "<p>418 rows × 14 columns</p>\n",
       "</div>"
      ],
      "text/plain": [
       "          Fare  Is_Male  Known_Cabin  ...  Title_Mr  Title_Mrs  Title_Rare\n",
       "891  -0.492093      1.0          0.0  ...       1.0        0.0         0.0\n",
       "892  -0.508125      0.0          0.0  ...       0.0        1.0         0.0\n",
       "893  -0.456164      1.0          0.0  ...       1.0        0.0         0.0\n",
       "894  -0.475981      1.0          0.0  ...       1.0        0.0         0.0\n",
       "895  -0.405895      0.0          0.0  ...       0.0        1.0         0.0\n",
       "...        ...      ...          ...  ...       ...        ...         ...\n",
       "1304 -0.487824      1.0          0.0  ...       1.0        0.0         0.0\n",
       "1305  1.462034      0.0          1.0  ...       0.0        0.0         1.0\n",
       "1306 -0.503291      1.0          0.0  ...       1.0        0.0         0.0\n",
       "1307 -0.487824      1.0          0.0  ...       1.0        0.0         0.0\n",
       "1308 -0.211184      1.0          0.0  ...       0.0        0.0         0.0\n",
       "\n",
       "[418 rows x 14 columns]"
      ]
     },
     "execution_count": 84,
     "metadata": {},
     "output_type": "execute_result"
    }
   ],
   "source": [
    "test"
   ]
  },
  {
   "cell_type": "code",
   "execution_count": 85,
   "id": "49c2b947",
   "metadata": {},
   "outputs": [],
   "source": [
    "col_to_int  = [col for col in train.columns if col!=\"Fare\"]\n",
    "train = pd.concat((train[col_to_int].astype(\"int\"),train[[\"Fare\"]]),axis=1)\n"
   ]
  },
  {
   "cell_type": "code",
   "execution_count": 86,
   "id": "11b6943e",
   "metadata": {},
   "outputs": [
    {
     "data": {
      "text/plain": [
       "(891, 14)"
      ]
     },
     "execution_count": 86,
     "metadata": {},
     "output_type": "execute_result"
    }
   ],
   "source": [
    "train.shape"
   ]
  },
  {
   "cell_type": "code",
   "execution_count": 87,
   "id": "a7e45b54",
   "metadata": {},
   "outputs": [
    {
     "data": {
      "text/html": [
       "<div>\n",
       "<style scoped>\n",
       "    .dataframe tbody tr th:only-of-type {\n",
       "        vertical-align: middle;\n",
       "    }\n",
       "\n",
       "    .dataframe tbody tr th {\n",
       "        vertical-align: top;\n",
       "    }\n",
       "\n",
       "    .dataframe thead th {\n",
       "        text-align: right;\n",
       "    }\n",
       "</style>\n",
       "<table border=\"1\" class=\"dataframe\">\n",
       "  <thead>\n",
       "    <tr style=\"text-align: right;\">\n",
       "      <th></th>\n",
       "      <th>Is_Male</th>\n",
       "      <th>Known_Cabin</th>\n",
       "      <th>Is_alone</th>\n",
       "      <th>Age_Group</th>\n",
       "      <th>Embarked_Q</th>\n",
       "      <th>Embarked_S</th>\n",
       "      <th>Pclass_2</th>\n",
       "      <th>Pclass_3</th>\n",
       "      <th>Title_Master</th>\n",
       "      <th>Title_Miss</th>\n",
       "      <th>Title_Mr</th>\n",
       "      <th>Title_Mrs</th>\n",
       "      <th>Title_Rare</th>\n",
       "      <th>Fare</th>\n",
       "    </tr>\n",
       "  </thead>\n",
       "  <tbody>\n",
       "    <tr>\n",
       "      <th>0</th>\n",
       "      <td>1</td>\n",
       "      <td>0</td>\n",
       "      <td>0</td>\n",
       "      <td>4</td>\n",
       "      <td>0</td>\n",
       "      <td>1</td>\n",
       "      <td>0</td>\n",
       "      <td>1</td>\n",
       "      <td>0</td>\n",
       "      <td>0</td>\n",
       "      <td>1</td>\n",
       "      <td>0</td>\n",
       "      <td>0</td>\n",
       "      <td>-0.503291</td>\n",
       "    </tr>\n",
       "    <tr>\n",
       "      <th>1</th>\n",
       "      <td>0</td>\n",
       "      <td>1</td>\n",
       "      <td>0</td>\n",
       "      <td>4</td>\n",
       "      <td>0</td>\n",
       "      <td>0</td>\n",
       "      <td>0</td>\n",
       "      <td>0</td>\n",
       "      <td>0</td>\n",
       "      <td>0</td>\n",
       "      <td>0</td>\n",
       "      <td>1</td>\n",
       "      <td>0</td>\n",
       "      <td>0.734744</td>\n",
       "    </tr>\n",
       "    <tr>\n",
       "      <th>2</th>\n",
       "      <td>0</td>\n",
       "      <td>0</td>\n",
       "      <td>1</td>\n",
       "      <td>4</td>\n",
       "      <td>0</td>\n",
       "      <td>1</td>\n",
       "      <td>0</td>\n",
       "      <td>1</td>\n",
       "      <td>0</td>\n",
       "      <td>1</td>\n",
       "      <td>0</td>\n",
       "      <td>0</td>\n",
       "      <td>0</td>\n",
       "      <td>-0.490240</td>\n",
       "    </tr>\n",
       "    <tr>\n",
       "      <th>3</th>\n",
       "      <td>0</td>\n",
       "      <td>1</td>\n",
       "      <td>0</td>\n",
       "      <td>4</td>\n",
       "      <td>0</td>\n",
       "      <td>1</td>\n",
       "      <td>0</td>\n",
       "      <td>0</td>\n",
       "      <td>0</td>\n",
       "      <td>0</td>\n",
       "      <td>0</td>\n",
       "      <td>1</td>\n",
       "      <td>0</td>\n",
       "      <td>0.383183</td>\n",
       "    </tr>\n",
       "    <tr>\n",
       "      <th>4</th>\n",
       "      <td>1</td>\n",
       "      <td>0</td>\n",
       "      <td>1</td>\n",
       "      <td>4</td>\n",
       "      <td>0</td>\n",
       "      <td>1</td>\n",
       "      <td>0</td>\n",
       "      <td>1</td>\n",
       "      <td>0</td>\n",
       "      <td>0</td>\n",
       "      <td>1</td>\n",
       "      <td>0</td>\n",
       "      <td>0</td>\n",
       "      <td>-0.487824</td>\n",
       "    </tr>\n",
       "    <tr>\n",
       "      <th>...</th>\n",
       "      <td>...</td>\n",
       "      <td>...</td>\n",
       "      <td>...</td>\n",
       "      <td>...</td>\n",
       "      <td>...</td>\n",
       "      <td>...</td>\n",
       "      <td>...</td>\n",
       "      <td>...</td>\n",
       "      <td>...</td>\n",
       "      <td>...</td>\n",
       "      <td>...</td>\n",
       "      <td>...</td>\n",
       "      <td>...</td>\n",
       "      <td>...</td>\n",
       "    </tr>\n",
       "    <tr>\n",
       "      <th>886</th>\n",
       "      <td>1</td>\n",
       "      <td>0</td>\n",
       "      <td>1</td>\n",
       "      <td>4</td>\n",
       "      <td>0</td>\n",
       "      <td>1</td>\n",
       "      <td>1</td>\n",
       "      <td>0</td>\n",
       "      <td>0</td>\n",
       "      <td>0</td>\n",
       "      <td>0</td>\n",
       "      <td>0</td>\n",
       "      <td>1</td>\n",
       "      <td>-0.392119</td>\n",
       "    </tr>\n",
       "    <tr>\n",
       "      <th>887</th>\n",
       "      <td>0</td>\n",
       "      <td>1</td>\n",
       "      <td>1</td>\n",
       "      <td>3</td>\n",
       "      <td>0</td>\n",
       "      <td>1</td>\n",
       "      <td>0</td>\n",
       "      <td>0</td>\n",
       "      <td>0</td>\n",
       "      <td>1</td>\n",
       "      <td>0</td>\n",
       "      <td>0</td>\n",
       "      <td>0</td>\n",
       "      <td>-0.063437</td>\n",
       "    </tr>\n",
       "    <tr>\n",
       "      <th>888</th>\n",
       "      <td>0</td>\n",
       "      <td>0</td>\n",
       "      <td>0</td>\n",
       "      <td>4</td>\n",
       "      <td>0</td>\n",
       "      <td>1</td>\n",
       "      <td>0</td>\n",
       "      <td>1</td>\n",
       "      <td>0</td>\n",
       "      <td>1</td>\n",
       "      <td>0</td>\n",
       "      <td>0</td>\n",
       "      <td>0</td>\n",
       "      <td>-0.190076</td>\n",
       "    </tr>\n",
       "    <tr>\n",
       "      <th>889</th>\n",
       "      <td>1</td>\n",
       "      <td>1</td>\n",
       "      <td>1</td>\n",
       "      <td>4</td>\n",
       "      <td>0</td>\n",
       "      <td>0</td>\n",
       "      <td>0</td>\n",
       "      <td>0</td>\n",
       "      <td>0</td>\n",
       "      <td>0</td>\n",
       "      <td>1</td>\n",
       "      <td>0</td>\n",
       "      <td>0</td>\n",
       "      <td>-0.063437</td>\n",
       "    </tr>\n",
       "    <tr>\n",
       "      <th>890</th>\n",
       "      <td>1</td>\n",
       "      <td>0</td>\n",
       "      <td>1</td>\n",
       "      <td>4</td>\n",
       "      <td>1</td>\n",
       "      <td>0</td>\n",
       "      <td>0</td>\n",
       "      <td>1</td>\n",
       "      <td>0</td>\n",
       "      <td>0</td>\n",
       "      <td>1</td>\n",
       "      <td>0</td>\n",
       "      <td>0</td>\n",
       "      <td>-0.493624</td>\n",
       "    </tr>\n",
       "  </tbody>\n",
       "</table>\n",
       "<p>891 rows × 14 columns</p>\n",
       "</div>"
      ],
      "text/plain": [
       "     Is_Male  Known_Cabin  Is_alone  ...  Title_Mrs  Title_Rare      Fare\n",
       "0          1            0         0  ...          0           0 -0.503291\n",
       "1          0            1         0  ...          1           0  0.734744\n",
       "2          0            0         1  ...          0           0 -0.490240\n",
       "3          0            1         0  ...          1           0  0.383183\n",
       "4          1            0         1  ...          0           0 -0.487824\n",
       "..       ...          ...       ...  ...        ...         ...       ...\n",
       "886        1            0         1  ...          0           1 -0.392119\n",
       "887        0            1         1  ...          0           0 -0.063437\n",
       "888        0            0         0  ...          0           0 -0.190076\n",
       "889        1            1         1  ...          0           0 -0.063437\n",
       "890        1            0         1  ...          0           0 -0.493624\n",
       "\n",
       "[891 rows x 14 columns]"
      ]
     },
     "execution_count": 87,
     "metadata": {},
     "output_type": "execute_result"
    }
   ],
   "source": [
    "train"
   ]
  },
  {
   "cell_type": "code",
   "execution_count": 88,
   "id": "09cd1046",
   "metadata": {},
   "outputs": [
    {
     "name": "stdout",
     "output_type": "stream",
     "text": [
      "Test Shape (418, 14)\n"
     ]
    }
   ],
   "source": [
    "test = pd.concat((test[col_to_int].astype('int'),test[[\"Fare\"]]),axis=1)\n",
    "print(\"Test Shape\", test.shape)"
   ]
  },
  {
   "cell_type": "markdown",
   "id": "179c6e7d",
   "metadata": {},
   "source": [
    "### splitting the dataset"
   ]
  },
  {
   "cell_type": "code",
   "execution_count": 89,
   "id": "a278b521",
   "metadata": {},
   "outputs": [],
   "source": [
    "X_train,X_valid,y_train,y_valid=train_test_split(train,y,test_size=0.2,random_state=42)"
   ]
  },
  {
   "cell_type": "markdown",
   "id": "12573cca",
   "metadata": {},
   "source": [
    "### Feature Selection"
   ]
  },
  {
   "cell_type": "code",
   "execution_count": 91,
   "id": "f351f672",
   "metadata": {},
   "outputs": [
    {
     "name": "stdout",
     "output_type": "stream",
     "text": [
      "[71.90588207] [2.25710127e-17]\n",
      "[49.89311559] [1.62353305e-12]\n",
      "[9.22453348] [0.00238794]\n",
      "[2.05492578] [0.15171465]\n",
      "[0.02423916] [0.87627792]\n",
      "[3.35279982] [0.06709081]\n",
      "[7.37063653] [0.00662975]\n",
      "[30.99337078] [2.58911247e-08]\n",
      "[4.01778576] [0.04502279]\n",
      "[54.06717247] [1.93751368e-13]\n",
      "[87.40051564] [8.86273829e-21]\n",
      "[86.93029835] [1.12413966e-20]\n",
      "[0.03987218] [0.8417307]\n"
     ]
    },
    {
     "data": {
      "text/html": [
       "<div>\n",
       "<style scoped>\n",
       "    .dataframe tbody tr th:only-of-type {\n",
       "        vertical-align: middle;\n",
       "    }\n",
       "\n",
       "    .dataframe tbody tr th {\n",
       "        vertical-align: top;\n",
       "    }\n",
       "\n",
       "    .dataframe thead th {\n",
       "        text-align: right;\n",
       "    }\n",
       "</style>\n",
       "<table border=\"1\" class=\"dataframe\">\n",
       "  <thead>\n",
       "    <tr style=\"text-align: right;\">\n",
       "      <th></th>\n",
       "      <th>Feature</th>\n",
       "      <th>P_val</th>\n",
       "      <th>Significant</th>\n",
       "    </tr>\n",
       "  </thead>\n",
       "  <tbody>\n",
       "    <tr>\n",
       "      <th>0</th>\n",
       "      <td>Is_Male</td>\n",
       "      <td>0.00000</td>\n",
       "      <td>Strong relation (keep)</td>\n",
       "    </tr>\n",
       "    <tr>\n",
       "      <th>1</th>\n",
       "      <td>Known_Cabin</td>\n",
       "      <td>0.00000</td>\n",
       "      <td>Strong relation (keep)</td>\n",
       "    </tr>\n",
       "    <tr>\n",
       "      <th>7</th>\n",
       "      <td>Pclass_3</td>\n",
       "      <td>0.00000</td>\n",
       "      <td>Strong relation (keep)</td>\n",
       "    </tr>\n",
       "    <tr>\n",
       "      <th>9</th>\n",
       "      <td>Title_Miss</td>\n",
       "      <td>0.00000</td>\n",
       "      <td>Strong relation (keep)</td>\n",
       "    </tr>\n",
       "    <tr>\n",
       "      <th>10</th>\n",
       "      <td>Title_Mr</td>\n",
       "      <td>0.00000</td>\n",
       "      <td>Strong relation (keep)</td>\n",
       "    </tr>\n",
       "    <tr>\n",
       "      <th>11</th>\n",
       "      <td>Title_Mrs</td>\n",
       "      <td>0.00000</td>\n",
       "      <td>Strong relation (keep)</td>\n",
       "    </tr>\n",
       "    <tr>\n",
       "      <th>2</th>\n",
       "      <td>Is_alone</td>\n",
       "      <td>0.00239</td>\n",
       "      <td>Strong relation (keep)</td>\n",
       "    </tr>\n",
       "    <tr>\n",
       "      <th>6</th>\n",
       "      <td>Pclass_2</td>\n",
       "      <td>0.00663</td>\n",
       "      <td>Strong relation (keep)</td>\n",
       "    </tr>\n",
       "    <tr>\n",
       "      <th>8</th>\n",
       "      <td>Title_Master</td>\n",
       "      <td>0.04502</td>\n",
       "      <td>Strong relation (keep)</td>\n",
       "    </tr>\n",
       "    <tr>\n",
       "      <th>5</th>\n",
       "      <td>Embarked_S</td>\n",
       "      <td>0.06709</td>\n",
       "      <td>No relation (drop)</td>\n",
       "    </tr>\n",
       "    <tr>\n",
       "      <th>3</th>\n",
       "      <td>Age_Group</td>\n",
       "      <td>0.15171</td>\n",
       "      <td>No relation (drop)</td>\n",
       "    </tr>\n",
       "    <tr>\n",
       "      <th>12</th>\n",
       "      <td>Title_Rare</td>\n",
       "      <td>0.84173</td>\n",
       "      <td>No relation (drop)</td>\n",
       "    </tr>\n",
       "    <tr>\n",
       "      <th>4</th>\n",
       "      <td>Embarked_Q</td>\n",
       "      <td>0.87628</td>\n",
       "      <td>No relation (drop)</td>\n",
       "    </tr>\n",
       "  </tbody>\n",
       "</table>\n",
       "</div>"
      ],
      "text/plain": [
       "         Feature    P_val             Significant\n",
       "0        Is_Male  0.00000  Strong relation (keep)\n",
       "1    Known_Cabin  0.00000  Strong relation (keep)\n",
       "7       Pclass_3  0.00000  Strong relation (keep)\n",
       "9     Title_Miss  0.00000  Strong relation (keep)\n",
       "10      Title_Mr  0.00000  Strong relation (keep)\n",
       "11     Title_Mrs  0.00000  Strong relation (keep)\n",
       "2       Is_alone  0.00239  Strong relation (keep)\n",
       "6       Pclass_2  0.00663  Strong relation (keep)\n",
       "8   Title_Master  0.04502  Strong relation (keep)\n",
       "5     Embarked_S  0.06709      No relation (drop)\n",
       "3      Age_Group  0.15171      No relation (drop)\n",
       "12    Title_Rare  0.84173      No relation (drop)\n",
       "4     Embarked_Q  0.87628      No relation (drop)"
      ]
     },
     "execution_count": 91,
     "metadata": {},
     "output_type": "execute_result"
    }
   ],
   "source": [
    "categorical_columns = [col for col in X_train.columns if col != \"Fare\"]\n",
    "\n",
    "chi2_result = []\n",
    "alpha = 0.05\n",
    "\n",
    "for col in categorical_columns:\n",
    "    chi2_score, p_value = chi2(X_train[[col]],y_train)\n",
    "    print(chi2_score,p_value)\n",
    "    chi2_result.append({\n",
    "        \"Feature\":col,\n",
    "        \"P_val\":round(p_value[0],5),\n",
    "        \"Significant\":\"Strong relation (keep)\" if p_value[0]<alpha else \"No relation (drop)\"\n",
    "    })\n",
    "\n",
    "chi2_result_df = pd.DataFrame(chi2_result).sort_values(by=\"P_val\")\n",
    "\n",
    "chi2_result_df"
   ]
  },
  {
   "cell_type": "code",
   "execution_count": 92,
   "id": "49d128b2",
   "metadata": {},
   "outputs": [],
   "source": [
    "drop_columns = [\"Embarked_Q\",\"Pclass_2\",\"Title_Rare\"]\n",
    "X_train.drop(columns=drop_columns,inplace=True)\n",
    "X_valid.drop(columns=drop_columns,inplace=True)\n",
    "\n"
   ]
  },
  {
   "cell_type": "markdown",
   "id": "3deb0756",
   "metadata": {},
   "source": [
    "### Model Training and Evaluation"
   ]
  },
  {
   "cell_type": "code",
   "execution_count": 93,
   "id": "31e49530",
   "metadata": {},
   "outputs": [],
   "source": [
    "models={\n",
    "    \"Logistic Regression\":LogisticRegression(random_state=42,max_iter=1000),\n",
    "    \"Random Forest\":RandomForestClassifier(random_state=42,n_estimators=100),\n",
    "    \"Naive Bayes\":GaussianNB(),\n",
    "    \"Gradient Boosting\": GradientBoostingClassifier(random_state=42),\n",
    "    \"AdaBoost\":AdaBoostClassifier(random_state=42),\n",
    "    \"SVM\": SVC(probability=True, random_state=42),\n",
    "    \"KNN\": KNeighborsClassifier(),\n",
    "    \"Decision Tree\": DecisionTreeClassifier(random_state=42),\n",
    "    \"Ada Boost\":AdaBoostClassifier(n_estimators=100,random_state=42),\n",
    "    \"XgBoost\":XGBClassifier(),\n",
    "    \"LightGBM\":LGBMClassifier()\n",
    "\n",
    "}"
   ]
  },
  {
   "cell_type": "code",
   "execution_count": 96,
   "id": "055d16cf",
   "metadata": {},
   "outputs": [
    {
     "name": "stdout",
     "output_type": "stream",
     "text": [
      "\n",
      "Logistic Regression\n",
      "Accuracy: 0.8045\n",
      "              precision    recall  f1-score   support\n",
      "\n",
      "           0       0.83      0.84      0.83       105\n",
      "           1       0.77      0.76      0.76        74\n",
      "\n",
      "    accuracy                           0.80       179\n",
      "   macro avg       0.80      0.80      0.80       179\n",
      "weighted avg       0.80      0.80      0.80       179\n",
      "\n",
      "\n",
      "Random Forest\n",
      "Accuracy: 0.8380\n",
      "              precision    recall  f1-score   support\n",
      "\n",
      "           0       0.87      0.86      0.86       105\n",
      "           1       0.80      0.81      0.81        74\n",
      "\n",
      "    accuracy                           0.84       179\n",
      "   macro avg       0.83      0.83      0.83       179\n",
      "weighted avg       0.84      0.84      0.84       179\n",
      "\n",
      "\n",
      "Naive Bayes\n",
      "Accuracy: 0.7933\n",
      "              precision    recall  f1-score   support\n",
      "\n",
      "           0       0.84      0.80      0.82       105\n",
      "           1       0.73      0.78      0.76        74\n",
      "\n",
      "    accuracy                           0.79       179\n",
      "   macro avg       0.79      0.79      0.79       179\n",
      "weighted avg       0.80      0.79      0.79       179\n",
      "\n",
      "\n",
      "Gradient Boosting\n",
      "Accuracy: 0.8324\n",
      "              precision    recall  f1-score   support\n",
      "\n",
      "           0       0.84      0.88      0.86       105\n",
      "           1       0.81      0.77      0.79        74\n",
      "\n",
      "    accuracy                           0.83       179\n",
      "   macro avg       0.83      0.82      0.83       179\n",
      "weighted avg       0.83      0.83      0.83       179\n",
      "\n",
      "\n",
      "AdaBoost\n",
      "Accuracy: 0.7989\n",
      "              precision    recall  f1-score   support\n",
      "\n",
      "           0       0.84      0.81      0.83       105\n",
      "           1       0.74      0.78      0.76        74\n",
      "\n",
      "    accuracy                           0.80       179\n",
      "   macro avg       0.79      0.80      0.79       179\n",
      "weighted avg       0.80      0.80      0.80       179\n",
      "\n",
      "\n",
      "SVM\n",
      "Accuracy: 0.8045\n",
      "              precision    recall  f1-score   support\n",
      "\n",
      "           0       0.81      0.88      0.84       105\n",
      "           1       0.80      0.70      0.75        74\n",
      "\n",
      "    accuracy                           0.80       179\n",
      "   macro avg       0.80      0.79      0.79       179\n",
      "weighted avg       0.80      0.80      0.80       179\n",
      "\n",
      "\n",
      "KNN\n",
      "Accuracy: 0.8212\n",
      "              precision    recall  f1-score   support\n",
      "\n",
      "           0       0.84      0.86      0.85       105\n",
      "           1       0.79      0.77      0.78        74\n",
      "\n",
      "    accuracy                           0.82       179\n",
      "   macro avg       0.82      0.81      0.81       179\n",
      "weighted avg       0.82      0.82      0.82       179\n",
      "\n",
      "\n",
      "Decision Tree\n",
      "Accuracy: 0.8101\n",
      "              precision    recall  f1-score   support\n",
      "\n",
      "           0       0.83      0.85      0.84       105\n",
      "           1       0.78      0.76      0.77        74\n",
      "\n",
      "    accuracy                           0.81       179\n",
      "   macro avg       0.80      0.80      0.80       179\n",
      "weighted avg       0.81      0.81      0.81       179\n",
      "\n",
      "\n",
      "Ada Boost\n",
      "Accuracy: 0.7989\n",
      "              precision    recall  f1-score   support\n",
      "\n",
      "           0       0.83      0.83      0.83       105\n",
      "           1       0.76      0.76      0.76        74\n",
      "\n",
      "    accuracy                           0.80       179\n",
      "   macro avg       0.79      0.79      0.79       179\n",
      "weighted avg       0.80      0.80      0.80       179\n",
      "\n",
      "\n",
      "XgBoost\n",
      "Accuracy: 0.8436\n",
      "              precision    recall  f1-score   support\n",
      "\n",
      "           0       0.87      0.87      0.87       105\n",
      "           1       0.81      0.81      0.81        74\n",
      "\n",
      "    accuracy                           0.84       179\n",
      "   macro avg       0.84      0.84      0.84       179\n",
      "weighted avg       0.84      0.84      0.84       179\n",
      "\n",
      "[LightGBM] [Info] Number of positive: 268, number of negative: 444\n",
      "[LightGBM] [Info] Auto-choosing row-wise multi-threading, the overhead of testing was 0.000720 seconds.\n",
      "You can set `force_row_wise=true` to remove the overhead.\n",
      "And if memory is not enough, you can set `force_col_wise=true`.\n",
      "[LightGBM] [Info] Total Bins 136\n",
      "[LightGBM] [Info] Number of data points in the train set: 712, number of used features: 11\n",
      "[LightGBM] [Info] [binary:BoostFromScore]: pavg=0.376404 -> initscore=-0.504838\n",
      "[LightGBM] [Info] Start training from score -0.504838\n",
      "[LightGBM] [Warning] No further splits with positive gain, best gain: -inf\n",
      "[LightGBM] [Warning] No further splits with positive gain, best gain: -inf\n",
      "[LightGBM] [Warning] No further splits with positive gain, best gain: -inf\n",
      "[LightGBM] [Warning] No further splits with positive gain, best gain: -inf\n",
      "[LightGBM] [Warning] No further splits with positive gain, best gain: -inf\n",
      "[LightGBM] [Warning] No further splits with positive gain, best gain: -inf\n",
      "[LightGBM] [Warning] No further splits with positive gain, best gain: -inf\n",
      "[LightGBM] [Warning] No further splits with positive gain, best gain: -inf\n",
      "[LightGBM] [Warning] No further splits with positive gain, best gain: -inf\n",
      "[LightGBM] [Warning] No further splits with positive gain, best gain: -inf\n",
      "[LightGBM] [Warning] No further splits with positive gain, best gain: -inf\n",
      "[LightGBM] [Warning] No further splits with positive gain, best gain: -inf\n",
      "[LightGBM] [Warning] No further splits with positive gain, best gain: -inf\n",
      "[LightGBM] [Warning] No further splits with positive gain, best gain: -inf\n",
      "[LightGBM] [Warning] No further splits with positive gain, best gain: -inf\n",
      "[LightGBM] [Warning] No further splits with positive gain, best gain: -inf\n",
      "[LightGBM] [Warning] No further splits with positive gain, best gain: -inf\n",
      "[LightGBM] [Warning] No further splits with positive gain, best gain: -inf\n",
      "[LightGBM] [Warning] No further splits with positive gain, best gain: -inf\n",
      "[LightGBM] [Warning] No further splits with positive gain, best gain: -inf\n",
      "[LightGBM] [Warning] No further splits with positive gain, best gain: -inf\n",
      "[LightGBM] [Warning] No further splits with positive gain, best gain: -inf\n",
      "[LightGBM] [Warning] No further splits with positive gain, best gain: -inf\n",
      "[LightGBM] [Warning] No further splits with positive gain, best gain: -inf\n",
      "[LightGBM] [Warning] No further splits with positive gain, best gain: -inf\n",
      "[LightGBM] [Warning] No further splits with positive gain, best gain: -inf\n",
      "[LightGBM] [Warning] No further splits with positive gain, best gain: -inf\n",
      "[LightGBM] [Warning] No further splits with positive gain, best gain: -inf\n",
      "[LightGBM] [Warning] No further splits with positive gain, best gain: -inf\n",
      "[LightGBM] [Warning] No further splits with positive gain, best gain: -inf\n",
      "[LightGBM] [Warning] No further splits with positive gain, best gain: -inf\n",
      "[LightGBM] [Warning] No further splits with positive gain, best gain: -inf\n",
      "[LightGBM] [Warning] No further splits with positive gain, best gain: -inf\n",
      "[LightGBM] [Warning] No further splits with positive gain, best gain: -inf\n",
      "[LightGBM] [Warning] No further splits with positive gain, best gain: -inf\n",
      "[LightGBM] [Warning] No further splits with positive gain, best gain: -inf\n",
      "[LightGBM] [Warning] No further splits with positive gain, best gain: -inf\n",
      "[LightGBM] [Warning] No further splits with positive gain, best gain: -inf\n",
      "[LightGBM] [Warning] No further splits with positive gain, best gain: -inf\n",
      "[LightGBM] [Warning] No further splits with positive gain, best gain: -inf\n",
      "[LightGBM] [Warning] No further splits with positive gain, best gain: -inf\n",
      "[LightGBM] [Warning] No further splits with positive gain, best gain: -inf\n",
      "[LightGBM] [Warning] No further splits with positive gain, best gain: -inf\n",
      "[LightGBM] [Warning] No further splits with positive gain, best gain: -inf\n",
      "[LightGBM] [Warning] No further splits with positive gain, best gain: -inf\n",
      "[LightGBM] [Warning] No further splits with positive gain, best gain: -inf\n",
      "[LightGBM] [Warning] No further splits with positive gain, best gain: -inf\n",
      "[LightGBM] [Warning] No further splits with positive gain, best gain: -inf\n",
      "[LightGBM] [Warning] No further splits with positive gain, best gain: -inf\n",
      "[LightGBM] [Warning] No further splits with positive gain, best gain: -inf\n",
      "[LightGBM] [Warning] No further splits with positive gain, best gain: -inf\n",
      "[LightGBM] [Warning] No further splits with positive gain, best gain: -inf\n",
      "[LightGBM] [Warning] No further splits with positive gain, best gain: -inf\n",
      "[LightGBM] [Warning] No further splits with positive gain, best gain: -inf\n",
      "[LightGBM] [Warning] No further splits with positive gain, best gain: -inf\n",
      "[LightGBM] [Warning] No further splits with positive gain, best gain: -inf\n",
      "[LightGBM] [Warning] No further splits with positive gain, best gain: -inf\n",
      "[LightGBM] [Warning] No further splits with positive gain, best gain: -inf\n",
      "[LightGBM] [Warning] No further splits with positive gain, best gain: -inf\n",
      "[LightGBM] [Warning] No further splits with positive gain, best gain: -inf\n",
      "[LightGBM] [Warning] No further splits with positive gain, best gain: -inf\n",
      "[LightGBM] [Warning] No further splits with positive gain, best gain: -inf\n",
      "[LightGBM] [Warning] No further splits with positive gain, best gain: -inf\n",
      "[LightGBM] [Warning] No further splits with positive gain, best gain: -inf\n",
      "[LightGBM] [Warning] No further splits with positive gain, best gain: -inf\n",
      "[LightGBM] [Warning] No further splits with positive gain, best gain: -inf\n",
      "[LightGBM] [Warning] No further splits with positive gain, best gain: -inf\n",
      "[LightGBM] [Warning] No further splits with positive gain, best gain: -inf\n",
      "[LightGBM] [Warning] No further splits with positive gain, best gain: -inf\n",
      "[LightGBM] [Warning] No further splits with positive gain, best gain: -inf\n",
      "[LightGBM] [Warning] No further splits with positive gain, best gain: -inf\n",
      "[LightGBM] [Warning] No further splits with positive gain, best gain: -inf\n",
      "[LightGBM] [Warning] No further splits with positive gain, best gain: -inf\n",
      "[LightGBM] [Warning] No further splits with positive gain, best gain: -inf\n",
      "[LightGBM] [Warning] No further splits with positive gain, best gain: -inf\n",
      "[LightGBM] [Warning] No further splits with positive gain, best gain: -inf\n",
      "[LightGBM] [Warning] No further splits with positive gain, best gain: -inf\n",
      "[LightGBM] [Warning] No further splits with positive gain, best gain: -inf\n",
      "[LightGBM] [Warning] No further splits with positive gain, best gain: -inf\n",
      "[LightGBM] [Warning] No further splits with positive gain, best gain: -inf\n",
      "[LightGBM] [Warning] No further splits with positive gain, best gain: -inf\n",
      "[LightGBM] [Warning] No further splits with positive gain, best gain: -inf\n",
      "[LightGBM] [Warning] No further splits with positive gain, best gain: -inf\n",
      "[LightGBM] [Warning] No further splits with positive gain, best gain: -inf\n",
      "[LightGBM] [Warning] No further splits with positive gain, best gain: -inf\n",
      "[LightGBM] [Warning] No further splits with positive gain, best gain: -inf\n",
      "[LightGBM] [Warning] No further splits with positive gain, best gain: -inf\n",
      "[LightGBM] [Warning] No further splits with positive gain, best gain: -inf\n",
      "[LightGBM] [Warning] No further splits with positive gain, best gain: -inf\n",
      "[LightGBM] [Warning] No further splits with positive gain, best gain: -inf\n",
      "[LightGBM] [Warning] No further splits with positive gain, best gain: -inf\n",
      "[LightGBM] [Warning] No further splits with positive gain, best gain: -inf\n",
      "[LightGBM] [Warning] No further splits with positive gain, best gain: -inf\n",
      "[LightGBM] [Warning] No further splits with positive gain, best gain: -inf\n",
      "[LightGBM] [Warning] No further splits with positive gain, best gain: -inf\n",
      "[LightGBM] [Warning] No further splits with positive gain, best gain: -inf\n",
      "[LightGBM] [Warning] No further splits with positive gain, best gain: -inf\n",
      "[LightGBM] [Warning] No further splits with positive gain, best gain: -inf\n",
      "\n",
      "LightGBM\n",
      "Accuracy: 0.8436\n",
      "              precision    recall  f1-score   support\n",
      "\n",
      "           0       0.86      0.88      0.87       105\n",
      "           1       0.82      0.80      0.81        74\n",
      "\n",
      "    accuracy                           0.84       179\n",
      "   macro avg       0.84      0.84      0.84       179\n",
      "weighted avg       0.84      0.84      0.84       179\n",
      "\n"
     ]
    }
   ],
   "source": [
    "result = {}\n",
    "\n",
    "for name, model in models.items():\n",
    "    Pipe = Pipeline(\n",
    "    [\n",
    "        (\"clf\",model)\n",
    "    ])\n",
    "    Pipe.fit(X_train,y_train)\n",
    "    y_pred = Pipe.predict(X_valid)\n",
    "    acc = accuracy_score(y_valid,y_pred)\n",
    "    result[name] = acc\n",
    "    print(f\"\\n{name}\")\n",
    "    print(f\"Accuracy: {acc:.4f}\")\n",
    "    print(classification_report(y_valid,y_pred))\n",
    "    \n",
    "    "
   ]
  },
  {
   "cell_type": "code",
   "execution_count": 97,
   "id": "db82dafa",
   "metadata": {},
   "outputs": [],
   "source": [
    "names = []\n",
    "accuracy = []\n",
    "for name,acc in result.items():\n",
    "    names.append(name)\n",
    "    accuracy.append(acc)\n",
    "    \n"
   ]
  },
  {
   "cell_type": "code",
   "execution_count": 98,
   "id": "96361b4f",
   "metadata": {},
   "outputs": [],
   "source": [
    "result = pd.DataFrame({\n",
    "    \"Model\":names,\n",
    "    \"accuracy\":accuracy\n",
    "})\n",
    "\n"
   ]
  },
  {
   "cell_type": "code",
   "execution_count": 99,
   "id": "e569601e",
   "metadata": {},
   "outputs": [
    {
     "data": {
      "text/html": [
       "<div>\n",
       "<style scoped>\n",
       "    .dataframe tbody tr th:only-of-type {\n",
       "        vertical-align: middle;\n",
       "    }\n",
       "\n",
       "    .dataframe tbody tr th {\n",
       "        vertical-align: top;\n",
       "    }\n",
       "\n",
       "    .dataframe thead th {\n",
       "        text-align: right;\n",
       "    }\n",
       "</style>\n",
       "<table border=\"1\" class=\"dataframe\">\n",
       "  <thead>\n",
       "    <tr style=\"text-align: right;\">\n",
       "      <th></th>\n",
       "      <th>Model</th>\n",
       "      <th>accuracy</th>\n",
       "    </tr>\n",
       "  </thead>\n",
       "  <tbody>\n",
       "    <tr>\n",
       "      <th>0</th>\n",
       "      <td>Logistic Regression</td>\n",
       "      <td>0.804469</td>\n",
       "    </tr>\n",
       "    <tr>\n",
       "      <th>1</th>\n",
       "      <td>Random Forest</td>\n",
       "      <td>0.837989</td>\n",
       "    </tr>\n",
       "    <tr>\n",
       "      <th>2</th>\n",
       "      <td>Naive Bayes</td>\n",
       "      <td>0.793296</td>\n",
       "    </tr>\n",
       "    <tr>\n",
       "      <th>3</th>\n",
       "      <td>Gradient Boosting</td>\n",
       "      <td>0.832402</td>\n",
       "    </tr>\n",
       "    <tr>\n",
       "      <th>4</th>\n",
       "      <td>AdaBoost</td>\n",
       "      <td>0.798883</td>\n",
       "    </tr>\n",
       "    <tr>\n",
       "      <th>5</th>\n",
       "      <td>SVM</td>\n",
       "      <td>0.804469</td>\n",
       "    </tr>\n",
       "    <tr>\n",
       "      <th>6</th>\n",
       "      <td>KNN</td>\n",
       "      <td>0.821229</td>\n",
       "    </tr>\n",
       "    <tr>\n",
       "      <th>7</th>\n",
       "      <td>Decision Tree</td>\n",
       "      <td>0.810056</td>\n",
       "    </tr>\n",
       "    <tr>\n",
       "      <th>8</th>\n",
       "      <td>Ada Boost</td>\n",
       "      <td>0.798883</td>\n",
       "    </tr>\n",
       "    <tr>\n",
       "      <th>9</th>\n",
       "      <td>XgBoost</td>\n",
       "      <td>0.843575</td>\n",
       "    </tr>\n",
       "    <tr>\n",
       "      <th>10</th>\n",
       "      <td>LightGBM</td>\n",
       "      <td>0.843575</td>\n",
       "    </tr>\n",
       "  </tbody>\n",
       "</table>\n",
       "</div>"
      ],
      "text/plain": [
       "                  Model  accuracy\n",
       "0   Logistic Regression  0.804469\n",
       "1         Random Forest  0.837989\n",
       "2           Naive Bayes  0.793296\n",
       "3     Gradient Boosting  0.832402\n",
       "4              AdaBoost  0.798883\n",
       "5                   SVM  0.804469\n",
       "6                   KNN  0.821229\n",
       "7         Decision Tree  0.810056\n",
       "8             Ada Boost  0.798883\n",
       "9               XgBoost  0.843575\n",
       "10             LightGBM  0.843575"
      ]
     },
     "execution_count": 99,
     "metadata": {},
     "output_type": "execute_result"
    }
   ],
   "source": [
    "result"
   ]
  },
  {
   "cell_type": "code",
   "execution_count": 100,
   "id": "94ee96e8",
   "metadata": {},
   "outputs": [
    {
     "data": {
      "text/html": [
       "<div>\n",
       "<style scoped>\n",
       "    .dataframe tbody tr th:only-of-type {\n",
       "        vertical-align: middle;\n",
       "    }\n",
       "\n",
       "    .dataframe tbody tr th {\n",
       "        vertical-align: top;\n",
       "    }\n",
       "\n",
       "    .dataframe thead th {\n",
       "        text-align: right;\n",
       "    }\n",
       "</style>\n",
       "<table border=\"1\" class=\"dataframe\">\n",
       "  <thead>\n",
       "    <tr style=\"text-align: right;\">\n",
       "      <th></th>\n",
       "      <th>Model</th>\n",
       "      <th>accuracy</th>\n",
       "    </tr>\n",
       "  </thead>\n",
       "  <tbody>\n",
       "    <tr>\n",
       "      <th>9</th>\n",
       "      <td>XgBoost</td>\n",
       "      <td>0.843575</td>\n",
       "    </tr>\n",
       "    <tr>\n",
       "      <th>10</th>\n",
       "      <td>LightGBM</td>\n",
       "      <td>0.843575</td>\n",
       "    </tr>\n",
       "    <tr>\n",
       "      <th>1</th>\n",
       "      <td>Random Forest</td>\n",
       "      <td>0.837989</td>\n",
       "    </tr>\n",
       "    <tr>\n",
       "      <th>3</th>\n",
       "      <td>Gradient Boosting</td>\n",
       "      <td>0.832402</td>\n",
       "    </tr>\n",
       "    <tr>\n",
       "      <th>6</th>\n",
       "      <td>KNN</td>\n",
       "      <td>0.821229</td>\n",
       "    </tr>\n",
       "    <tr>\n",
       "      <th>7</th>\n",
       "      <td>Decision Tree</td>\n",
       "      <td>0.810056</td>\n",
       "    </tr>\n",
       "    <tr>\n",
       "      <th>0</th>\n",
       "      <td>Logistic Regression</td>\n",
       "      <td>0.804469</td>\n",
       "    </tr>\n",
       "    <tr>\n",
       "      <th>5</th>\n",
       "      <td>SVM</td>\n",
       "      <td>0.804469</td>\n",
       "    </tr>\n",
       "    <tr>\n",
       "      <th>4</th>\n",
       "      <td>AdaBoost</td>\n",
       "      <td>0.798883</td>\n",
       "    </tr>\n",
       "    <tr>\n",
       "      <th>8</th>\n",
       "      <td>Ada Boost</td>\n",
       "      <td>0.798883</td>\n",
       "    </tr>\n",
       "    <tr>\n",
       "      <th>2</th>\n",
       "      <td>Naive Bayes</td>\n",
       "      <td>0.793296</td>\n",
       "    </tr>\n",
       "  </tbody>\n",
       "</table>\n",
       "</div>"
      ],
      "text/plain": [
       "                  Model  accuracy\n",
       "9               XgBoost  0.843575\n",
       "10             LightGBM  0.843575\n",
       "1         Random Forest  0.837989\n",
       "3     Gradient Boosting  0.832402\n",
       "6                   KNN  0.821229\n",
       "7         Decision Tree  0.810056\n",
       "0   Logistic Regression  0.804469\n",
       "5                   SVM  0.804469\n",
       "4              AdaBoost  0.798883\n",
       "8             Ada Boost  0.798883\n",
       "2           Naive Bayes  0.793296"
      ]
     },
     "execution_count": 100,
     "metadata": {},
     "output_type": "execute_result"
    }
   ],
   "source": [
    "result = result.sort_values(by=\"accuracy\",ascending=False)\n",
    "result\n"
   ]
  },
  {
   "cell_type": "code",
   "execution_count": 101,
   "id": "674765ee",
   "metadata": {},
   "outputs": [
    {
     "data": {
      "image/png": "[encoded data removed]",
      "text/plain": [
       "<Figure size 800x600 with 1 Axes>"
      ]
     },
     "metadata": {},
     "output_type": "display_data"
    }
   ],
   "source": [
    "# Ensure folder exists\n",
    "os.makedirs(\"images\", exist_ok=True)\n",
    "\n",
    "# Plot\n",
    "plt.figure(figsize=(8,6))\n",
    "sns.barplot(data=result, x='Model', y='accuracy', palette='plasma')\n",
    "plt.xticks(rotation=45)\n",
    "plt.tight_layout()\n",
    "\n",
    "# Save the figure\n",
    "plt.savefig(\"images/model_accuracy.png\", dpi=320)\n",
    "\n",
    "plt.show()"
   ]
  },
  {
   "cell_type": "markdown",
   "id": "d7178195",
   "metadata": {},
   "source": [
    "### Hyperparameter Tuning"
   ]
  },
  {
   "cell_type": "code",
   "execution_count": 102,
   "id": "2954a4ad",
   "metadata": {},
   "outputs": [
    {
     "name": "stderr",
     "output_type": "stream",
     "text": [
      "[I 2025-09-17 16:39:09,769] A new study created in memory with name: no-name-4559dfd5-d589-42b5-aa4a-848dc2a67007\n",
      "[I 2025-09-17 16:39:09,819] Trial 0 finished with value: 0.79 and parameters: {'model': 'DecisionTree', 'max_depth_dt': 12, 'min_samples_split_dt': 6}. Best is trial 0 with value: 0.79.\n",
      "[I 2025-09-17 16:39:12,022] Trial 1 finished with value: 0.81 and parameters: {'model': 'RandomForest', 'n_estimators_rf': 214, 'max_depth_rf': 15}. Best is trial 1 with value: 0.81.\n",
      "[I 2025-09-17 16:39:12,531] Trial 2 finished with value: 0.83 and parameters: {'model': 'SVC', 'C_svc': 5.937075409960182, 'gamma_svc': 'auto'}. Best is trial 2 with value: 0.83.\n",
      "[I 2025-09-17 16:39:14,885] Trial 3 finished with value: 0.83 and parameters: {'model': 'AdaBoost', 'n_estimators_ab': 180, 'learning_rate_ab': 0.43014253708410793}. Best is trial 2 with value: 0.83.\n",
      "[I 2025-09-17 16:39:17,528] Trial 4 finished with value: 0.82 and parameters: {'model': 'AdaBoost', 'n_estimators_ab': 208, 'learning_rate_ab': 0.09260457125860926}. Best is trial 2 with value: 0.83.\n",
      "[I 2025-09-17 16:39:17,573] Trial 5 finished with value: 0.8 and parameters: {'model': 'DecisionTree', 'max_depth_dt': 19, 'min_samples_split_dt': 8}. Best is trial 2 with value: 0.83.\n",
      "[I 2025-09-17 16:39:20,106] Trial 6 finished with value: 0.83 and parameters: {'model': 'AdaBoost', 'n_estimators_ab': 209, 'learning_rate_ab': 0.9535214331537583}. Best is trial 2 with value: 0.83.\n",
      "[I 2025-09-17 16:39:22,288] Trial 7 finished with value: 0.81 and parameters: {'model': 'RandomForest', 'n_estimators_rf': 222, 'max_depth_rf': 14}. Best is trial 2 with value: 0.83.\n",
      "[I 2025-09-17 16:39:25,523] Trial 8 finished with value: 0.81 and parameters: {'model': 'GradientBoosting', 'n_estimators_gb': 93, 'learning_rate_gb': 0.4393928101860544, 'max_depth_gb': 8}. Best is trial 2 with value: 0.83.\n",
      "[I 2025-09-17 16:39:25,563] Trial 9 finished with value: 0.78 and parameters: {'model': 'LogisticRegression', 'C_lr': 0.014329084394434106}. Best is trial 2 with value: 0.83.\n",
      "[I 2025-09-17 16:39:25,977] Trial 10 finished with value: 0.83 and parameters: {'model': 'SVC', 'C_svc': 5.85661346328275, 'gamma_svc': 'auto'}. Best is trial 2 with value: 0.83.\n",
      "[I 2025-09-17 16:39:26,029] Trial 11 finished with value: 0.79 and parameters: {'model': 'GaussianNB'}. Best is trial 2 with value: 0.83.\n",
      "[I 2025-09-17 16:39:26,782] Trial 12 finished with value: 0.83 and parameters: {'model': 'SVC', 'C_svc': 9.893182540002698, 'gamma_svc': 'scale'}. Best is trial 2 with value: 0.83.\n",
      "[I 2025-09-17 16:39:27,350] Trial 13 finished with value: 0.82 and parameters: {'model': 'SVC', 'C_svc': 1.306068984809389, 'gamma_svc': 'auto'}. Best is trial 2 with value: 0.83.\n",
      "[I 2025-09-17 16:39:28,200] Trial 14 finished with value: 0.83 and parameters: {'model': 'AdaBoost', 'n_estimators_ab': 73, 'learning_rate_ab': 0.4317555874904832}. Best is trial 2 with value: 0.83.\n",
      "[I 2025-09-17 16:39:28,230] Trial 15 finished with value: 0.79 and parameters: {'model': 'GaussianNB'}. Best is trial 2 with value: 0.83.\n",
      "[I 2025-09-17 16:39:28,305] Trial 16 finished with value: 0.82 and parameters: {'model': 'LogisticRegression', 'C_lr': 7.582226745461314}. Best is trial 2 with value: 0.83.\n",
      "[I 2025-09-17 16:39:30,055] Trial 17 finished with value: 0.83 and parameters: {'model': 'GradientBoosting', 'n_estimators_gb': 298, 'learning_rate_gb': 0.02119987575799348, 'max_depth_gb': 2}. Best is trial 2 with value: 0.83.\n",
      "[I 2025-09-17 16:39:30,510] Trial 18 finished with value: 0.83 and parameters: {'model': 'SVC', 'C_svc': 5.819425187313282, 'gamma_svc': 'auto'}. Best is trial 2 with value: 0.83.\n",
      "[I 2025-09-17 16:39:33,753] Trial 19 finished with value: 0.84 and parameters: {'model': 'AdaBoost', 'n_estimators_ab': 285, 'learning_rate_ab': 0.5355507302788702}. Best is trial 19 with value: 0.84.\n",
      "[I 2025-09-17 16:39:34,223] Trial 20 finished with value: 0.83 and parameters: {'model': 'SVC', 'C_svc': 2.3258439959681843, 'gamma_svc': 'scale'}. Best is trial 19 with value: 0.84.\n",
      "[I 2025-09-17 16:39:37,394] Trial 21 finished with value: 0.84 and parameters: {'model': 'AdaBoost', 'n_estimators_ab': 275, 'learning_rate_ab': 0.5198942871431308}. Best is trial 19 with value: 0.84.\n",
      "[I 2025-09-17 16:39:41,021] Trial 22 finished with value: 0.83 and parameters: {'model': 'AdaBoost', 'n_estimators_ab': 295, 'learning_rate_ab': 0.6954688324843133}. Best is trial 19 with value: 0.84.\n",
      "[I 2025-09-17 16:39:44,500] Trial 23 finished with value: 0.84 and parameters: {'model': 'AdaBoost', 'n_estimators_ab': 299, 'learning_rate_ab': 0.6504891999837555}. Best is trial 19 with value: 0.84.\n",
      "[I 2025-09-17 16:39:48,253] Trial 24 finished with value: 0.83 and parameters: {'model': 'AdaBoost', 'n_estimators_ab': 296, 'learning_rate_ab': 0.6311110813881105}. Best is trial 19 with value: 0.84.\n",
      "[I 2025-09-17 16:39:51,340] Trial 25 finished with value: 0.83 and parameters: {'model': 'AdaBoost', 'n_estimators_ab': 264, 'learning_rate_ab': 0.6049152498885103}. Best is trial 19 with value: 0.84.\n",
      "[I 2025-09-17 16:39:54,605] Trial 26 finished with value: 0.83 and parameters: {'model': 'AdaBoost', 'n_estimators_ab': 250, 'learning_rate_ab': 0.42305171159031335}. Best is trial 19 with value: 0.84.\n",
      "[I 2025-09-17 16:39:57,512] Trial 27 finished with value: 0.83 and parameters: {'model': 'AdaBoost', 'n_estimators_ab': 256, 'learning_rate_ab': 0.7401527317320639}. Best is trial 19 with value: 0.84.\n",
      "[I 2025-09-17 16:40:00,969] Trial 28 finished with value: 0.83 and parameters: {'model': 'AdaBoost', 'n_estimators_ab': 299, 'learning_rate_ab': 0.23944017569443837}. Best is trial 19 with value: 0.84.\n",
      "[I 2025-09-17 16:40:02,290] Trial 29 finished with value: 0.83 and parameters: {'model': 'AdaBoost', 'n_estimators_ab': 107, 'learning_rate_ab': 0.8154394655315385}. Best is trial 19 with value: 0.84.\n",
      "[I 2025-09-17 16:40:02,324] Trial 30 finished with value: 0.81 and parameters: {'model': 'DecisionTree', 'max_depth_dt': 3, 'min_samples_split_dt': 2}. Best is trial 19 with value: 0.84.\n",
      "[I 2025-09-17 16:40:02,365] Trial 31 finished with value: 0.82 and parameters: {'model': 'LogisticRegression', 'C_lr': 0.36196431698964837}. Best is trial 19 with value: 0.84.\n",
      "[I 2025-09-17 16:40:02,816] Trial 32 finished with value: 0.79 and parameters: {'model': 'RandomForest', 'n_estimators_rf': 56, 'max_depth_rf': 2}. Best is trial 19 with value: 0.84.\n",
      "[I 2025-09-17 16:40:02,862] Trial 33 finished with value: 0.79 and parameters: {'model': 'GaussianNB'}. Best is trial 19 with value: 0.84.\n",
      "[I 2025-09-17 16:40:13,861] Trial 34 finished with value: 0.81 and parameters: {'model': 'GradientBoosting', 'n_estimators_gb': 232, 'learning_rate_gb': 0.14227989072537933, 'max_depth_gb': 10}. Best is trial 19 with value: 0.84.\n",
      "[I 2025-09-17 16:40:16,868] Trial 35 finished with value: 0.83 and parameters: {'model': 'AdaBoost', 'n_estimators_ab': 243, 'learning_rate_ab': 0.5370228213674343}. Best is trial 19 with value: 0.84.\n",
      "[I 2025-09-17 16:40:16,925] Trial 36 finished with value: 0.79 and parameters: {'model': 'DecisionTree', 'max_depth_dt': 2, 'min_samples_split_dt': 10}. Best is trial 19 with value: 0.84.\n",
      "[I 2025-09-17 16:40:20,373] Trial 37 finished with value: 0.83 and parameters: {'model': 'AdaBoost', 'n_estimators_ab': 271, 'learning_rate_ab': 0.24736666317531192}. Best is trial 19 with value: 0.84.\n",
      "[I 2025-09-17 16:40:21,054] Trial 38 finished with value: 0.83 and parameters: {'model': 'RandomForest', 'n_estimators_rf': 73, 'max_depth_rf': 4}. Best is trial 19 with value: 0.84.\n",
      "[I 2025-09-17 16:40:21,597] Trial 39 finished with value: 0.83 and parameters: {'model': 'SVC', 'C_svc': 9.030184689679675, 'gamma_svc': 'auto'}. Best is trial 19 with value: 0.84.\n",
      "[I 2025-09-17 16:40:24,314] Trial 40 finished with value: 0.83 and parameters: {'model': 'AdaBoost', 'n_estimators_ab': 215, 'learning_rate_ab': 0.5223441607731957}. Best is trial 19 with value: 0.84.\n",
      "[I 2025-09-17 16:40:26,144] Trial 41 finished with value: 0.83 and parameters: {'model': 'AdaBoost', 'n_estimators_ab': 145, 'learning_rate_ab': 0.373986335944636}. Best is trial 19 with value: 0.84.\n",
      "[I 2025-09-17 16:40:27,690] Trial 42 finished with value: 0.83 and parameters: {'model': 'AdaBoost', 'n_estimators_ab': 129, 'learning_rate_ab': 0.3120359060406035}. Best is trial 19 with value: 0.84.\n"
     ]
    },
    {
     "name": "stderr",
     "output_type": "stream",
     "text": [
      "[I 2025-09-17 16:40:29,667] Trial 43 finished with value: 0.83 and parameters: {'model': 'AdaBoost', 'n_estimators_ab': 176, 'learning_rate_ab': 0.5029465437413165}. Best is trial 19 with value: 0.84.\n",
      "[I 2025-09-17 16:40:29,713] Trial 44 finished with value: 0.8 and parameters: {'model': 'DecisionTree', 'max_depth_dt': 19, 'min_samples_split_dt': 2}. Best is trial 19 with value: 0.84.\n",
      "[I 2025-09-17 16:40:30,174] Trial 45 finished with value: 0.82 and parameters: {'model': 'SVC', 'C_svc': 4.085366288474545, 'gamma_svc': 'auto'}. Best is trial 19 with value: 0.84.\n",
      "[I 2025-09-17 16:40:30,832] Trial 46 finished with value: 0.82 and parameters: {'model': 'GradientBoosting', 'n_estimators_gb': 81, 'learning_rate_gb': 0.4971012888806996, 'max_depth_gb': 3}. Best is trial 19 with value: 0.84.\n",
      "[I 2025-09-17 16:40:30,885] Trial 47 finished with value: 0.78 and parameters: {'model': 'LogisticRegression', 'C_lr': 0.010606212609140986}. Best is trial 19 with value: 0.84.\n",
      "[I 2025-09-17 16:40:30,920] Trial 48 finished with value: 0.79 and parameters: {'model': 'GaussianNB'}. Best is trial 19 with value: 0.84.\n",
      "[I 2025-09-17 16:40:33,823] Trial 49 finished with value: 0.81 and parameters: {'model': 'RandomForest', 'n_estimators_rf': 296, 'max_depth_rf': 20}. Best is trial 19 with value: 0.84.\n",
      "[I 2025-09-17 16:40:37,181] Trial 50 finished with value: 0.83 and parameters: {'model': 'AdaBoost', 'n_estimators_ab': 280, 'learning_rate_ab': 0.6104957216592223}. Best is trial 19 with value: 0.84.\n",
      "[I 2025-09-17 16:40:39,626] Trial 51 finished with value: 0.83 and parameters: {'model': 'AdaBoost', 'n_estimators_ab': 187, 'learning_rate_ab': 0.9807569240910985}. Best is trial 19 with value: 0.84.\n",
      "[I 2025-09-17 16:40:42,222] Trial 52 finished with value: 0.83 and parameters: {'model': 'AdaBoost', 'n_estimators_ab': 221, 'learning_rate_ab': 0.9435504965496256}. Best is trial 19 with value: 0.84.\n",
      "[I 2025-09-17 16:40:42,607] Trial 53 finished with value: 0.83 and parameters: {'model': 'SVC', 'C_svc': 7.75205680057012, 'gamma_svc': 'scale'}. Best is trial 19 with value: 0.84.\n",
      "[I 2025-09-17 16:40:45,700] Trial 54 finished with value: 0.84 and parameters: {'model': 'AdaBoost', 'n_estimators_ab': 234, 'learning_rate_ab': 0.48314454811293117}. Best is trial 19 with value: 0.84.\n",
      "[I 2025-09-17 16:40:48,425] Trial 55 finished with value: 0.83 and parameters: {'model': 'AdaBoost', 'n_estimators_ab': 240, 'learning_rate_ab': 0.4861688138704804}. Best is trial 19 with value: 0.84.\n",
      "[I 2025-09-17 16:40:51,673] Trial 56 finished with value: 0.83 and parameters: {'model': 'AdaBoost', 'n_estimators_ab': 275, 'learning_rate_ab': 0.5908458571346173}. Best is trial 19 with value: 0.84.\n",
      "[I 2025-09-17 16:40:52,125] Trial 57 finished with value: 0.83 and parameters: {'model': 'SVC', 'C_svc': 3.8258871473223754, 'gamma_svc': 'auto'}. Best is trial 19 with value: 0.84.\n",
      "[I 2025-09-17 16:40:55,288] Trial 58 finished with value: 0.84 and parameters: {'model': 'AdaBoost', 'n_estimators_ab': 284, 'learning_rate_ab': 0.3940184843129607}. Best is trial 19 with value: 0.84.\n",
      "[I 2025-09-17 16:40:58,840] Trial 59 finished with value: 0.83 and parameters: {'model': 'AdaBoost', 'n_estimators_ab': 281, 'learning_rate_ab': 0.6962617910466744}. Best is trial 19 with value: 0.84.\n"
     ]
    },
    {
     "name": "stdout",
     "output_type": "stream",
     "text": [
      "Best model & hyperparameters: {'model': 'AdaBoost', 'n_estimators_ab': 285, 'learning_rate_ab': 0.5355507302788702}\n",
      "Best CV Accuracy: 0.84\n"
     ]
    }
   ],
   "source": [
    "def objective(trial, X, y):\n",
    "    model_name = trial.suggest_categorical(\"model\", [\n",
    "        \"LogisticRegression\", \"RandomForest\", \"GradientBoosting\", \"SVC\", \n",
    "        \"AdaBoost\", \"GaussianNB\", \"DecisionTree\"\n",
    "    ])\n",
    "    \n",
    "    if model_name == \"LogisticRegression\":\n",
    "        C_lr = trial.suggest_float(\"C_lr\", 0.01, 10.0, log=True)\n",
    "        model = LogisticRegression(C=C_lr, max_iter=1000, random_state=42)\n",
    "        \n",
    "    elif model_name == \"RandomForest\":\n",
    "        n_estimators_rf = trial.suggest_int(\"n_estimators_rf\", 50, 300)\n",
    "        max_depth_rf = trial.suggest_int(\"max_depth_rf\", 2, 20)\n",
    "        model = RandomForestClassifier(n_estimators=n_estimators_rf, max_depth=max_depth_rf, random_state=42)\n",
    "        \n",
    "    elif model_name == \"GradientBoosting\":\n",
    "        n_estimators_gb = trial.suggest_int(\"n_estimators_gb\", 50, 300)\n",
    "        learning_rate_gb = trial.suggest_float(\"learning_rate_gb\", 0.01, 0.5)\n",
    "        max_depth_gb = trial.suggest_int(\"max_depth_gb\", 2, 10)\n",
    "        model = GradientBoostingClassifier(\n",
    "            n_estimators=n_estimators_gb, learning_rate=learning_rate_gb,\n",
    "            max_depth=max_depth_gb, random_state=42\n",
    "        )\n",
    "        \n",
    "    elif model_name == \"SVC\":\n",
    "        C_svc = trial.suggest_float(\"C_svc\", 0.1, 10.0)\n",
    "        gamma_svc = trial.suggest_categorical(\"gamma_svc\", [\"scale\", \"auto\"])\n",
    "        model = SVC(C=C_svc, gamma=gamma_svc, probability=True, random_state=42)\n",
    "        \n",
    "    elif model_name == \"AdaBoost\":\n",
    "        n_estimators_ab = trial.suggest_int(\"n_estimators_ab\", 50, 300)\n",
    "        learning_rate_ab = trial.suggest_float(\"learning_rate_ab\", 0.01, 1.0)\n",
    "        model = AdaBoostClassifier(n_estimators=n_estimators_ab, learning_rate=learning_rate_ab, random_state=42)\n",
    "        \n",
    "    elif model_name == \"GaussianNB\":\n",
    "        model = GaussianNB()  # No hyperparameters needed\n",
    "\n",
    "    elif model_name == \"XGBoost\":\n",
    "        n_estimators_xgb = trial.suggest_int(\"n_estimators_xgb\", 50, 300)\n",
    "        max_depth_xgb = trial.suggest_int(\"max_depth_xgb\", 2, 10)\n",
    "        learning_rate_xgb = trial.suggest_float(\"learning_rate_xgb\", 0.01, 0.3)\n",
    "        model = XGBClassifier(\n",
    "            n_estimators=n_estimators_xgb,\n",
    "            max_depth=max_depth_xgb,\n",
    "            learning_rate=learning_rate_xgb,\n",
    "            use_label_encoder=False,\n",
    "            eval_metric='logloss',\n",
    "            random_state=42\n",
    "        )\n",
    "        \n",
    "    elif model_name == \"LightGBM\":\n",
    "        n_estimators_lgb = trial.suggest_int(\"n_estimators_lgb\", 50, 300)\n",
    "        max_depth_lgb = trial.suggest_int(\"max_depth_lgb\", 2, 15)\n",
    "        learning_rate_lgb = trial.suggest_float(\"learning_rate_lgb\", 0.01, 0.3)\n",
    "        model = LGBMClassifier(\n",
    "            n_estimators=n_estimators_lgb,\n",
    "            max_depth=max_depth_lgb,\n",
    "            learning_rate=learning_rate_lgb,\n",
    "            random_state=42\n",
    "    )\n",
    "        \n",
    "    elif model_name == \"DecisionTree\":\n",
    "        max_depth_dt = trial.suggest_int(\"max_depth_dt\", 2, 20)\n",
    "        min_samples_split_dt = trial.suggest_int(\"min_samples_split_dt\", 2, 10)\n",
    "        model = DecisionTreeClassifier(max_depth=max_depth_dt, min_samples_split=min_samples_split_dt, random_state=42)\n",
    "    \n",
    "    # Pipeline (no preprocessing needed if X already processed)\n",
    "    pipe = Pipeline([\n",
    "        (\"clf\", model)\n",
    "    ])\n",
    "    \n",
    "    # Stratified K-Fold CV\n",
    "    cv = StratifiedKFold(n_splits=5, shuffle=True, random_state=42)\n",
    "    score =np.round(cross_val_score(pipe, X, y, cv=cv, scoring=\"accuracy\").mean(),2)\n",
    "    \n",
    "    return score  # maximize accuracy\n",
    "\n",
    "# Run Optuna study\n",
    "study = optuna.create_study(direction=\"maximize\")\n",
    "study.optimize(lambda trial: objective(trial, X_train, y_train), n_trials=60)\n",
    "\n",
    "# Best trial\n",
    "print(\"Best model & hyperparameters:\", study.best_trial.params)\n",
    "print(\"Best CV Accuracy:\", study.best_value)"
   ]
  },
  {
   "cell_type": "markdown",
   "id": "eeeef901",
   "metadata": {},
   "source": [
    "### Model Testing and Validation"
   ]
  },
  {
   "cell_type": "code",
   "execution_count": 103,
   "id": "0dc2de91",
   "metadata": {},
   "outputs": [],
   "source": [
    "# Choose Top 3 Model--> RandomForestClassifier, GradientBoostingClassifier,SVC for ensemble models to improve performance"
   ]
  },
  {
   "cell_type": "code",
   "execution_count": 104,
   "id": "c8d3bc8e",
   "metadata": {},
   "outputs": [
    {
     "name": "stdout",
     "output_type": "stream",
     "text": [
      "Accuracy of Gradient Boosting: 0.8324022346368715\n"
     ]
    }
   ],
   "source": [
    "model=GradientBoostingClassifier()\n",
    "model.fit(X_train,y_train)\n",
    "y_pred=model.predict(X_valid)\n",
    "print(\"Accuracy of Gradient Boosting:\",accuracy_score(y_valid,y_pred))\n",
    "cm=confusion_matrix(y_valid,y_pred)  \n",
    "ConfusionMatrixDisplay(confusion_matrix=cm)\n",
    "plt.show()"
   ]
  },
  {
   "cell_type": "code",
   "execution_count": 105,
   "id": "56c59247",
   "metadata": {},
   "outputs": [
    {
     "data": {
      "text/plain": [
       "0.8100558659217877"
      ]
     },
     "execution_count": 105,
     "metadata": {},
     "output_type": "execute_result"
    }
   ],
   "source": [
    "stack = StackingClassifier(\n",
    "    estimators=[\n",
    "        ('rf', RandomForestClassifier(n_estimators=230, max_depth=9, random_state=42)),\n",
    "        ('gb', GradientBoostingClassifier(n_estimators=200, learning_rate=0.2, max_depth=3, random_state=42)),\n",
    "        ('svc', SVC(C=9.5,gamma='auto',random_state=42))\n",
    "    ],\n",
    "    final_estimator=LogisticRegression()\n",
    ")\n",
    "stack.fit(X_train, y_train)\n",
    "y_pred = stack.predict(X_valid)\n",
    "accuracy_score(y_valid,y_pred)"
   ]
  },
  {
   "cell_type": "code",
   "execution_count": 106,
   "id": "816f8adc",
   "metadata": {},
   "outputs": [
    {
     "name": "stdout",
     "output_type": "stream",
     "text": [
      "Accuracy Score : 0.8491620111731844\n"
     ]
    },
    {
     "data": {
      "image/png": "[encoded data removed]",
      "text/plain": [
       "<Figure size 640x480 with 2 Axes>"
      ]
     },
     "metadata": {},
     "output_type": "display_data"
    }
   ],
   "source": [
    "# Final Model \n",
    "ensemble_vcf = VotingClassifier(estimators=[\n",
    "    ('rf', RandomForestClassifier(n_estimators=292, max_depth=20, random_state=42)),\n",
    "    ('gb', GradientBoostingClassifier(n_estimators=279, learning_rate=0.2, max_depth=2, random_state=42)),\n",
    "    ('svc', SVC(C=9.5,gamma='auto',random_state=42))\n",
    "], voting='hard')\n",
    "\n",
    "ensemble_vcf.fit(X_train, y_train)\n",
    "y_pred = ensemble_vcf.predict(X_valid)\n",
    "print(\"Accuracy Score :\",accuracy_score(y_valid,y_pred))\n",
    "cm=confusion_matrix(y_valid,y_pred)\n",
    "cmd=ConfusionMatrixDisplay(confusion_matrix=cm)\n",
    "cmd.plot()\n",
    "plt.show()"
   ]
  },
  {
   "cell_type": "code",
   "execution_count": 107,
   "id": "20737598",
   "metadata": {},
   "outputs": [
    {
     "data": {
      "image/png": "[encoded data removed]",
      "text/plain": [
       "<Figure size 800x600 with 1 Axes>"
      ]
     },
     "metadata": {},
     "output_type": "display_data"
    }
   ],
   "source": [
    "y_pred_proba=model.predict_proba(X_valid)[:,1]\n",
    "fpr,tpr,threshold=roc_curve(y_valid,y_pred_proba)\n",
    "roc_auc=roc_auc_score(y_valid,y_pred_proba)\n",
    "\n",
    "plt.figure(figsize=(8,6))\n",
    "plt.plot(fpr,tpr,color=\"purple\",label=f\"ROC curve (AUC = {roc_auc:.2f}\")\n",
    "plt.plot([0,1],[0,1],color='yellow',linestyle='--')\n",
    "plt.xlabel(\"False Positive Rate\")\n",
    "plt.ylabel(\"True Positive Rate\")\n",
    "plt.title('Roc Curve')\n",
    "plt.show()"
   ]
  },
  {
   "cell_type": "code",
   "execution_count": 108,
   "id": "05d84d11",
   "metadata": {},
   "outputs": [
    {
     "data": {
      "text/plain": [
       "{'importances_mean': array([ 0.14469274,  0.02122905,  0.01843575,  0.02793296,  0.03407821,\n",
       "         0.06536313,  0.02346369, -0.0027933 ,  0.01005587,  0.01117318,\n",
       "         0.04692737]),\n",
       " 'importances_std': array([0.02141203, 0.00821058, 0.00614525, 0.01089027, 0.00881549,\n",
       "        0.01061453, 0.00487028, 0.0037476 , 0.00697765, 0.00967626,\n",
       "        0.01544165]),\n",
       " 'importances': array([[ 0.12849162,  0.18435754,  0.16201117,  0.11731844,  0.16201117,\n",
       "          0.15083799,  0.12290503,  0.11731844,  0.15642458,  0.1452514 ],\n",
       "        [ 0.02234637,  0.01675978,  0.01675978,  0.01675978,  0.02234637,\n",
       "          0.00558659,  0.02234637,  0.03910615,  0.02793296,  0.02234637],\n",
       "        [ 0.01117318,  0.01675978,  0.03351955,  0.01675978,  0.01675978,\n",
       "          0.01675978,  0.02234637,  0.01675978,  0.02234637,  0.01117318],\n",
       "        [ 0.01117318,  0.02234637,  0.02234637,  0.03910615,  0.02793296,\n",
       "          0.04469274,  0.01675978,  0.02793296,  0.02234637,  0.04469274],\n",
       "        [ 0.03351955,  0.03351955,  0.01675978,  0.03351955,  0.03910615,\n",
       "          0.02234637,  0.03910615,  0.03910615,  0.03351955,  0.05027933],\n",
       "        [ 0.05027933,  0.06703911,  0.07821229,  0.06145251,  0.05586592,\n",
       "          0.05586592,  0.08379888,  0.0726257 ,  0.0726257 ,  0.05586592],\n",
       "        [ 0.02793296,  0.01117318,  0.02234637,  0.02793296,  0.02793296,\n",
       "          0.02234637,  0.02234637,  0.02234637,  0.02234637,  0.02793296],\n",
       "        [-0.00558659,  0.        ,  0.        , -0.00558659, -0.00558659,\n",
       "          0.00558659,  0.        , -0.00558659, -0.00558659, -0.00558659],\n",
       "        [ 0.01117318,  0.01117318,  0.00558659,  0.02234637,  0.        ,\n",
       "          0.00558659,  0.00558659,  0.00558659,  0.02234637,  0.01117318],\n",
       "        [ 0.02234637,  0.01117318,  0.00558659,  0.01117318,  0.        ,\n",
       "          0.        ,  0.02234637,  0.01117318,  0.        ,  0.02793296],\n",
       "        [ 0.04469274,  0.06145251,  0.06145251,  0.01675978,  0.04469274,\n",
       "          0.03910615,  0.04469274,  0.06145251,  0.06703911,  0.02793296]])}"
      ]
     },
     "execution_count": 108,
     "metadata": {},
     "output_type": "execute_result"
    }
   ],
   "source": [
    "perm=permutation_importance(ensemble_vcf,X_valid,y_valid,n_repeats=10,random_state=42)\n",
    "perm"
   ]
  },
  {
   "cell_type": "code",
   "execution_count": 109,
   "id": "7bc736a3",
   "metadata": {},
   "outputs": [
    {
     "data": {
      "image/png": "[encoded data removed]",
      "text/plain": [
       "<Figure size 800x600 with 1 Axes>"
      ]
     },
     "metadata": {},
     "output_type": "display_data"
    }
   ],
   "source": [
    "plt.figure(figsize=(8,6))\n",
    "sns.barplot(x=X_train.columns,y=perm.importances_mean,palette='Set1')\n",
    "plt.xlabel(\"Feature\")\n",
    "plt.title(\"Permutation Importance\")\n",
    "plt.xticks(rotation=45)\n",
    "plt.tight_layout()\n",
    "plt.show()\n"
   ]
  },
  {
   "cell_type": "code",
   "execution_count": 110,
   "id": "bf7f3aef",
   "metadata": {},
   "outputs": [
    {
     "data": {
      "text/plain": [
       "array([0, 0, 0, 0, 1, 0, 1, 0, 1, 0, 0, 0, 1, 0, 1, 1, 0, 0, 0, 1, 0, 0,\n",
       "       1, 0, 1, 0, 1, 0, 0, 0, 0, 0, 1, 0, 1, 0, 0, 0, 0, 1, 0, 0, 0, 1,\n",
       "       1, 0, 0, 0, 1, 1, 0, 0, 1, 1, 0, 0, 0, 0, 0, 1, 0, 0, 0, 1, 1, 1,\n",
       "       1, 0, 0, 1, 1, 0, 1, 0, 1, 0, 0, 1, 0, 1, 1, 0, 0, 0, 0, 0, 1, 0,\n",
       "       1, 1, 1, 0, 1, 0, 0, 0, 1, 0, 1, 0, 1, 0, 0, 0, 1, 0, 0, 0, 0, 0,\n",
       "       0, 1, 1, 1, 1, 0, 0, 0, 1, 1, 1, 0, 1, 0, 0, 0, 0, 1, 0, 0, 0, 0,\n",
       "       0, 0, 0, 0, 0, 0, 0, 0, 0, 1, 0, 0, 0, 0, 0, 0, 0, 0, 1, 0, 0, 1,\n",
       "       0, 0, 1, 1, 0, 1, 1, 1, 1, 1, 0, 1, 0, 0, 1, 0, 0, 0, 0, 0, 0, 1,\n",
       "       1, 1, 1, 1, 0, 1, 1, 0, 1, 0, 1, 0, 0, 0, 0, 0, 1, 0, 1, 0, 1, 0,\n",
       "       0, 1, 1, 0, 0, 1, 0, 0, 1, 0, 1, 0, 0, 0, 0, 1, 0, 0, 1, 0, 1, 0,\n",
       "       1, 0, 1, 0, 1, 1, 0, 1, 0, 0, 0, 1, 0, 0, 0, 0, 1, 0, 1, 1, 1, 1,\n",
       "       0, 0, 0, 0, 1, 0, 1, 0, 1, 0, 0, 0, 0, 0, 0, 0, 1, 0, 0, 0, 1, 1,\n",
       "       0, 0, 0, 0, 0, 0, 0, 0, 1, 1, 0, 1, 0, 0, 0, 0, 0, 1, 1, 1, 0, 0,\n",
       "       0, 0, 0, 0, 0, 0, 0, 0, 0, 0, 1, 0, 0, 0, 0, 0, 0, 0, 1, 1, 0, 1,\n",
       "       0, 0, 0, 0, 0, 1, 1, 1, 0, 0, 0, 0, 0, 0, 0, 0, 1, 0, 1, 0, 0, 0,\n",
       "       1, 0, 0, 1, 0, 0, 0, 0, 0, 1, 0, 0, 0, 1, 0, 1, 0, 1, 0, 1, 1, 0,\n",
       "       0, 0, 0, 0, 1, 0, 0, 1, 0, 1, 1, 0, 1, 0, 0, 0, 1, 0, 0, 1, 0, 0,\n",
       "       1, 1, 0, 0, 0, 0, 0, 0, 1, 1, 0, 1, 0, 0, 0, 0, 0, 1, 1, 0, 0, 1,\n",
       "       0, 1, 0, 0, 1, 0, 1, 0, 0, 0, 0, 0, 1, 1, 1, 1, 0, 0, 1, 0, 0, 0],\n",
       "      dtype=int64)"
      ]
     },
     "execution_count": 110,
     "metadata": {},
     "output_type": "execute_result"
    }
   ],
   "source": [
    "X_test=test.drop(columns=drop_columns)\n",
    "y_pred=ensemble_vcf.predict(X_test)\n",
    "y_pred"
   ]
  },
  {
   "cell_type": "code",
   "execution_count": 111,
   "id": "55980e5a",
   "metadata": {},
   "outputs": [
    {
     "name": "stdout",
     "output_type": "stream",
     "text": [
      "Csv Filed Saved Successfully\n",
      "   PassengerId  Survived\n",
      "0          892         0\n",
      "1          893         0\n",
      "2          894         0\n",
      "3          895         0\n",
      "4          896         1\n"
     ]
    }
   ],
   "source": [
    "Submission_vcf=pd.DataFrame({\n",
    "    \"PassengerId\":test_passenger,\n",
    "    \"Survived\":y_pred\n",
    "})\n",
    "Submission_vcf.to_csv(\"Submission_vcf.csv\",index=False,encoding='utf-8-sig')\n",
    "print(\"Csv Filed Saved Successfully\")\n",
    "print(Submission_vcf.head())"
   ]
  },
  {
   "cell_type": "code",
   "execution_count": null,
   "id": "33b77f2a",
   "metadata": {},
   "outputs": [],
   "source": []
  }
 ],
 "metadata": {
  "kernelspec": {
   "display_name": "Python 3 (ipykernel)",
   "language": "python",
   "name": "python3"
  },
  "language_info": {
   "codemirror_mode": {
    "name": "ipython",
    "version": 3
   },
   "file_extension": ".py",
   "mimetype": "text/x-python",
   "name": "python",
   "nbconvert_exporter": "python",
   "pygments_lexer": "ipython3",
   "version": "3.11.5"
  }
 },
 "nbformat": 4,
 "nbformat_minor": 5
}
